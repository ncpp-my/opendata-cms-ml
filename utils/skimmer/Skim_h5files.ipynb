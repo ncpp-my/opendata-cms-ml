{
 "cells": [
  {
   "cell_type": "code",
   "execution_count": 10,
   "id": "c41ee248",
   "metadata": {},
   "outputs": [],
   "source": [
    "import h5py "
   ]
  },
  {
   "cell_type": "code",
   "execution_count": 11,
   "id": "69f7f57b",
   "metadata": {},
   "outputs": [],
   "source": [
    "fileNum = \"3\"\n",
    "inFileName  = \"../downloads/JetNtuple_RunIISummer16_13TeV_MC_\"+fileNum+\".h5\"\n",
    "outFileName = \"../downloads/JetNtuple_RunIISummer16_13TeV_MC_\"+fileNum+\"_skimmed.h5\"\n",
    "\n",
    "inFile  = h5py.File(inFileName)\n",
    "outFile = h5py.File(outFileName, \"w\")"
   ]
  },
  {
   "cell_type": "code",
   "execution_count": 12,
   "id": "1cc89def",
   "metadata": {},
   "outputs": [],
   "source": [
    "varList = [\n",
    " 'QG_axis2',\n",
    " 'QG_mult',\n",
    " 'QG_ptD',\n",
    " 'alpha',\n",
    " 'dEtaJetsLO',\n",
    " 'dPhiJetsLO',\n",
    " 'eventJetMult',\n",
    " 'eventWeight',\n",
    " 'hadronFlav',\n",
    " 'isPartonG',\n",
    " 'isPartonOther',\n",
    " 'isPartonUDS',\n",
    " 'isPhysG',\n",
    " 'isPhysOther',\n",
    " 'isPhysUDS',\n",
    " 'jetArea',\n",
    " 'jetChargedHadronMult',\n",
    " 'jetChargedMult',\n",
    " 'jetEta',\n",
    " 'jetGenMatch',\n",
    " 'jetGirth',\n",
    " 'jetLooseID',\n",
    " 'jetMass',\n",
    " 'jetMult',\n",
    " 'jetNeutralHadronMult',\n",
    " 'jetNeutralMult',\n",
    " 'jetPhi',\n",
    " 'jetPt',\n",
    " 'jetPtOrder',\n",
    " 'jetQGl',\n",
    " 'jetRawMass',\n",
    " 'jetRawPt',\n",
    " 'jetTightID',\n",
    " 'partonFlav',\n",
    " 'physFlav',\n",
    " 'pthat',\n",
    " 'rhoAll',\n",
    " 'rhoCentral',\n",
    " 'rhoCentralChargedPileUp',\n",
    " 'rhoCentralNeutral'\n",
    "]\n"
   ]
  },
  {
   "cell_type": "code",
   "execution_count": 13,
   "id": "62ebd3e2",
   "metadata": {},
   "outputs": [],
   "source": [
    "for var in varList:\n",
    "    outFile.copy(inFile[var], outFile, var)"
   ]
  },
  {
   "cell_type": "code",
   "execution_count": 14,
   "id": "8a64b814",
   "metadata": {},
   "outputs": [
    {
     "data": {
      "text/plain": [
       "['QG_axis2',\n",
       " 'QG_mult',\n",
       " 'QG_ptD',\n",
       " 'alpha',\n",
       " 'dEtaJetsLO',\n",
       " 'dPhiJetsLO',\n",
       " 'eventJetMult',\n",
       " 'eventWeight',\n",
       " 'hadronFlav',\n",
       " 'isPartonG',\n",
       " 'isPartonOther',\n",
       " 'isPartonUDS',\n",
       " 'isPhysG',\n",
       " 'isPhysOther',\n",
       " 'isPhysUDS',\n",
       " 'jetArea',\n",
       " 'jetChargedHadronMult',\n",
       " 'jetChargedMult',\n",
       " 'jetEta',\n",
       " 'jetGenMatch',\n",
       " 'jetGirth',\n",
       " 'jetLooseID',\n",
       " 'jetMass',\n",
       " 'jetMult',\n",
       " 'jetNeutralHadronMult',\n",
       " 'jetNeutralMult',\n",
       " 'jetPhi',\n",
       " 'jetPt',\n",
       " 'jetPtOrder',\n",
       " 'jetQGl',\n",
       " 'jetRawMass',\n",
       " 'jetRawPt',\n",
       " 'jetTightID',\n",
       " 'partonFlav',\n",
       " 'physFlav',\n",
       " 'pthat',\n",
       " 'rhoAll',\n",
       " 'rhoCentral',\n",
       " 'rhoCentralChargedPileUp',\n",
       " 'rhoCentralNeutral']"
      ]
     },
     "execution_count": 14,
     "metadata": {},
     "output_type": "execute_result"
    }
   ],
   "source": [
    "list(outFile.keys())"
   ]
  },
  {
   "cell_type": "code",
   "execution_count": null,
   "id": "35fb5bd1",
   "metadata": {},
   "outputs": [],
   "source": []
  }
 ],
 "metadata": {
  "kernelspec": {
   "display_name": "Python 3 (ipykernel)",
   "language": "python",
   "name": "python3"
  },
  "language_info": {
   "codemirror_mode": {
    "name": "ipython",
    "version": 3
   },
   "file_extension": ".py",
   "mimetype": "text/x-python",
   "name": "python",
   "nbconvert_exporter": "python",
   "pygments_lexer": "ipython3",
   "version": "3.9.7"
  }
 },
 "nbformat": 4,
 "nbformat_minor": 5
}
