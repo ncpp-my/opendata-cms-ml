{
 "cells": [
  {
   "cell_type": "markdown",
   "id": "b77d72a5",
   "metadata": {},
   "source": [
    "# Decision Trees using Scikit-Learn\n",
    "\n",
    "**AUTHOR**: Alma Qasreena binti Morsidi\n",
    "\n",
    "This Jupyter Notebook provide the example of simple Machine Learning classification using Scikit-Learn."
   ]
  },
  {
   "cell_type": "markdown",
   "id": "4b950a3f",
   "metadata": {},
   "source": [
    "We will be using the following modelling techniques:\n",
    "\n",
    "* Deep Neural Network (DNN)\n",
    "* Decision Tree\n",
    "* Adaptive Boosting (AdaBoost)\n",
    "* Gradient Boosting\n",
    "\n",
    "AdaBoost and Gradient Boosting is one of the most popular boosting algorithm method for Decision Tree that is shown in this notebook"
   ]
  },
  {
   "cell_type": "markdown",
   "id": "4701cd5e",
   "metadata": {},
   "source": [
    "We begin by importing a few essential libraries and then load the data sets that will be use"
   ]
  },
  {
   "cell_type": "code",
   "execution_count": 20,
   "id": "b153a78f",
   "metadata": {},
   "outputs": [],
   "source": [
    "%matplotlib inline\n",
    "\n",
    "import uproot\n",
    "import numpy as np\n",
    "import pandas as pd\n",
    "import matplotlib.pyplot as plt"
   ]
  },
  {
   "cell_type": "code",
   "execution_count": 21,
   "id": "f67e0651",
   "metadata": {},
   "outputs": [],
   "source": [
    "# Use flag to make it easier to compare the line produced by DNN, Decision Tree, AdaBoost, Gradient Boosting\n",
    "PLOT    = True\n",
    "DO_DNN  = True\n",
    "DO_DT   = True\n",
    "DO_AB   = True\n",
    "DO_GB   = True\n",
    "VERBOSE = False"
   ]
  },
  {
   "cell_type": "markdown",
   "id": "62472367",
   "metadata": {},
   "source": [
    "The data set is available in two formats: ROOT and HDF5. The former is predominantly used by the high energy physics community, while the latter is more familiar to data scientists and other users.\n",
    "\n",
    "In this notebook, we will be using ROOT files.The uproot package can be used to read a .root file to Python without having to necessarily install the whole ROOT software."
   ]
  },
  {
   "cell_type": "code",
   "execution_count": 22,
   "id": "7bd8c384",
   "metadata": {},
   "outputs": [],
   "source": [
    "# load the ROOT files\n",
    "\n",
    "filePath   =  '../files/JetNtuple_RunIISummer16_13TeV_MC_1_skimmed.root'\n",
    "tree       =   uproot.open(filePath)['jetTree']"
   ]
  },
  {
   "cell_type": "code",
   "execution_count": 23,
   "id": "ec8821de",
   "metadata": {},
   "outputs": [],
   "source": [
    "# Create and fill a dataframe\n",
    "df             = pd.DataFrame()\n",
    "remaining_vars = []"
   ]
  },
  {
   "cell_type": "markdown",
   "id": "09bbe221",
   "metadata": {},
   "source": [
    "# Classification of Quark or Gluon Jets\n",
    "\n",
    "The main objective in this example is to train a simple machine learning so that it will be able to classify which jets originate from gluons or quark(up,down and strange).This is an important task, since on the observable macroscopic level the two types of jets look very similar, but from a physical point of view the difference between them is significant."
   ]
  },
  {
   "cell_type": "code",
   "execution_count": 24,
   "id": "a19e0dc5",
   "metadata": {},
   "outputs": [],
   "source": [
    "# First remove all the other types of jets from the data except the gluon and the light quark (UDS) jets\n",
    "for key in tree.keys():\n",
    "\n",
    "    if str(type(tree[key].array()[0])) != \"<class 'awkward.highlevel.Array'>\":\n",
    "        df[key] = np.array(tree[key].array())\n",
    "    else:\n",
    "        remaining_vars.append(key)\n",
    "    pass\n",
    "\n",
    "df = df[(df.isPhysG==1) | (df.isPhysUDS==1)].reset_index()\n",
    "\n",
    "\n",
    "if VERBOSE: print(df)\n",
    "    \n",
    "if VERBOSE:      \n",
    "    print(\"Remaining variables not accounted for:\")\n",
    "    print(remaining_vars)"
   ]
  },
  {
   "cell_type": "markdown",
   "id": "bee2a830",
   "metadata": {},
   "source": [
    "From left to right these variables are the **jet multiplicity (QG_mult)**, the **jet momentum distribution variable (QG_ptD)** and the **jet minor axis (QG_axis2)**.\n",
    "\n",
    "**Jet multiplicity** is the number of particles contained in the jet. Gluons are expected to radiate more intensely, so on average gluon jets contain more particles.\n",
    "\n",
    "The **jet momentum distribution variable** is defined as $ p_{T} D = \\frac{\\sqrt{\\sum_i p_{T,i}^2}}{\\sum_i p_{T,i}} $ where $p_{T,i} $is the transverse momentum of a particle and the sum $ i $ is over the jet's constituents. It describes how the total transverse momentum of a jet is distributed to its constituents. Quark jets are expected to have fewer constituents carrying the majority of the jet's momentum, which means that the value of the transverse momentum of a particle is on average larger for quark jets.\n",
    "\n",
    "**The jet minor axis** (often also denoted by $ \\sigma_{2} $) describes the width of the jet when it is approximated as an ellipse. Gluon jets are on average wider than quark jets."
   ]
  },
  {
   "cell_type": "code",
   "execution_count": 25,
   "id": "3b39cbb5",
   "metadata": {},
   "outputs": [
    {
     "data": {
      "image/png": "[encoded data removed]",
      "text/plain": [
       "<Figure size 1440x720 with 1 Axes>"
      ]
     },
     "metadata": {
      "needs_background": "light"
     },
     "output_type": "display_data"
    }
   ],
   "source": [
    "if PLOT:\n",
    "    #\n",
    "    #Plotting Variables\n",
    "    #\n",
    "\n",
    "    hist_columns = ['QG_mult','QG_ptD','QG_axis2']\n",
    "    binnings = [np.arange(0,70,2), np.arange(0.0,1.0,0.04), np.arange(0.0,0.2,0.01)]\n",
    "    ind = 0\n",
    "    fig, axes = plt.subplots(1, 3, figsize=(20,10))\n",
    "\n",
    "    for column in hist_columns:\n",
    "        axes[ind].hist( df[df.isPhysG==1][column], bins=binnings[ind], alpha=0.8, label='Gluon', density=1 )\n",
    "        axes[ind].hist( df[df.isPhysUDS==1][column], bins=binnings[ind], alpha=0.8, label='Quark', density=1 )\n",
    "        axes[ind].set_xlabel(column)\n",
    "        axes[ind].legend()\n",
    "        ind = ind+1\n",
    "\n",
    "    plt.clf()\n",
    "\n",
    "    binning = np.arange(0.0, 1.0, 0.04)\n",
    "    plt.hist( df[df.isPhysG==1]['jetQGl'], bins=binning, alpha=0.8, label='Gluon', density=1 )\n",
    "    plt.hist( df[df.isPhysUDS==1]['jetQGl'], bins=binning, alpha=0.8, label='Quark', density=1 )\n",
    "    plt.legend()\n",
    "    plt.xlabel('Discriminator output')\n",
    "    plt.title('Quark/gluon likelihood');\n",
    "\n"
   ]
  },
  {
   "cell_type": "markdown",
   "id": "3a864a35",
   "metadata": {},
   "source": [
    "# Dividing the data \n",
    "\n",
    "Before we start the process of classifying the data using DNN, Decision Tree, AdaBoost and GRadient Boosting classifier, we need to first divide the data randomly into train and test sets. Our target output is the **isPhysUDS column**, the value of which is one for light quark jets and zero for gluon jets. Hence the output will be similar to the likelihood discriminator, allowing us to directly compare their performance\n",
    "\n",
    "The last line of code in the cell below is the input features which is use in all 4 types of classifier. In addition to the previous variables, **jetPT** and **jetETA** is also added.\n",
    "\n",
    "**jetPT** is the transverse momentum of the jets.\n",
    "\n",
    "**jetETA** is the pseudorapidity of the jet. Pseudorapidity is related to the polar angle of the jet's direction in the cylindrical coordinate system of the CMS detector."
   ]
  },
  {
   "cell_type": "code",
   "execution_count": 26,
   "id": "2e13ed1f",
   "metadata": {},
   "outputs": [],
   "source": [
    "from sklearn.model_selection import train_test_split\n",
    "from sklearn.metrics import roc_auc_score, roc_curve, auc\n",
    "\n",
    "train, test = train_test_split(df, test_size=0.2, random_state=42)\n",
    "\n",
    "test_y = test.isPhysUDS\n",
    "\n",
    "input_features = ['jetPt', 'jetEta', 'QG_mult', 'QG_ptD', 'QG_axis2']\n",
    "\n",
    "train_y = train.isPhysUDS\n",
    "test_y = test.isPhysUDS \n",
    "\n",
    "train_x = train[input_features]\n",
    "test_x = test[input_features]\n",
    "\n",
    "# normalize the features\n",
    "train_x_mean = train_x.mean()\n",
    "train_x_std = train_x.std()\n",
    "\n",
    "train_x = (train_x - train_x_mean) / train_x_std\n",
    "test_x = (test_x - train_x_mean) / train_x_std"
   ]
  },
  {
   "cell_type": "markdown",
   "id": "8e1f0c20",
   "metadata": {},
   "source": [
    "# Deep Neural Network (DNN)\n",
    "\n"
   ]
  },
  {
   "cell_type": "code",
   "execution_count": 27,
   "id": "c96b64c7",
   "metadata": {},
   "outputs": [
    {
     "name": "stdout",
     "output_type": "stream",
     "text": [
      "Epoch 1/20\n",
      "70/70 [==============================] - 2s 10ms/step - loss: 0.6451 - accuracy: 0.6866 - val_loss: 0.5120 - val_accuracy: 0.7498\n",
      "Epoch 2/20\n",
      "70/70 [==============================] - 1s 9ms/step - loss: 0.5265 - accuracy: 0.7446 - val_loss: 0.5041 - val_accuracy: 0.7601\n",
      "Epoch 3/20\n",
      "70/70 [==============================] - 1s 8ms/step - loss: 0.5161 - accuracy: 0.7581 - val_loss: 0.5179 - val_accuracy: 0.7511\n",
      "Epoch 4/20\n",
      "70/70 [==============================] - 1s 8ms/step - loss: 0.5203 - accuracy: 0.7496 - val_loss: 0.5140 - val_accuracy: 0.7547\n",
      "Epoch 5/20\n",
      "70/70 [==============================] - 1s 8ms/step - loss: 0.5279 - accuracy: 0.7432 - val_loss: 0.5021 - val_accuracy: 0.7579\n",
      "Epoch 6/20\n",
      "70/70 [==============================] - 1s 8ms/step - loss: 0.5258 - accuracy: 0.7463 - val_loss: 0.4933 - val_accuracy: 0.7579\n",
      "Epoch 7/20\n",
      "70/70 [==============================] - 1s 9ms/step - loss: 0.5197 - accuracy: 0.7520 - val_loss: 0.5013 - val_accuracy: 0.7565\n",
      "Epoch 8/20\n",
      "70/70 [==============================] - 1s 8ms/step - loss: 0.5156 - accuracy: 0.7544 - val_loss: 0.4934 - val_accuracy: 0.7601\n",
      "Epoch 9/20\n",
      "70/70 [==============================] - 1s 9ms/step - loss: 0.5111 - accuracy: 0.7632 - val_loss: 0.5094 - val_accuracy: 0.7538\n",
      "Epoch 10/20\n",
      "70/70 [==============================] - 1s 8ms/step - loss: 0.5190 - accuracy: 0.7510 - val_loss: 0.5176 - val_accuracy: 0.7475\n",
      "Epoch 11/20\n",
      "70/70 [==============================] - 1s 9ms/step - loss: 0.5127 - accuracy: 0.7548 - val_loss: 0.5054 - val_accuracy: 0.7529\n",
      "Epoch 12/20\n",
      "70/70 [==============================] - 1s 9ms/step - loss: 0.5181 - accuracy: 0.7520 - val_loss: 0.4929 - val_accuracy: 0.7597\n",
      "Epoch 13/20\n",
      "70/70 [==============================] - 1s 7ms/step - loss: 0.5190 - accuracy: 0.7499 - val_loss: 0.4997 - val_accuracy: 0.7565\n",
      "Epoch 14/20\n",
      "70/70 [==============================] - 1s 9ms/step - loss: 0.5112 - accuracy: 0.7524 - val_loss: 0.5144 - val_accuracy: 0.7525\n",
      "Epoch 15/20\n",
      "70/70 [==============================] - 1s 8ms/step - loss: 0.5185 - accuracy: 0.7507 - val_loss: 0.4978 - val_accuracy: 0.7556\n",
      "Epoch 16/20\n",
      "70/70 [==============================] - 1s 8ms/step - loss: 0.5113 - accuracy: 0.7631 - val_loss: 0.4972 - val_accuracy: 0.7583\n",
      "Epoch 17/20\n",
      "70/70 [==============================] - 1s 7ms/step - loss: 0.5154 - accuracy: 0.7545 - val_loss: 0.4997 - val_accuracy: 0.7547\n",
      "Epoch 18/20\n",
      "70/70 [==============================] - 1s 8ms/step - loss: 0.5173 - accuracy: 0.7536 - val_loss: 0.5006 - val_accuracy: 0.7556\n",
      "Epoch 19/20\n",
      "70/70 [==============================] - 1s 8ms/step - loss: 0.5079 - accuracy: 0.7577 - val_loss: 0.4941 - val_accuracy: 0.7615\n",
      "Epoch 20/20\n",
      "70/70 [==============================] - 1s 9ms/step - loss: 0.5137 - accuracy: 0.7557 - val_loss: 0.5236 - val_accuracy: 0.7466\n"
     ]
    }
   ],
   "source": [
    "if DO_DNN:\n",
    "    \n",
    "    #\n",
    "    # Deep Neural Network (DNN)\n",
    "    #\n",
    "    import tensorflow as tf\n",
    "    import keras.backend as K\n",
    "\n",
    "    sess = tf.compat.v1.Session()\n",
    "    tf.compat.v1.keras.backend.set_session(sess)\n",
    "\n",
    "    from keras.models import Model, Sequential\n",
    "    from keras.layers import Input, Dense, Dropout\n",
    "    from sklearn.utils import class_weight\n",
    "\n",
    "    # Define the DNN architecture\n",
    "    model = Sequential()\n",
    "    model.add(Dense(100, kernel_initializer='normal', activation='relu', input_dim=train_x.shape[1]))\n",
    "    model.add(Dropout(0.2))\n",
    "    model.add(Dense(100, kernel_initializer='normal', activation='relu'))\n",
    "    model.add(Dropout(0.2))\n",
    "    model.add(Dense(50, kernel_initializer='normal', activation='relu'))\n",
    "    model.add(Dense(1, kernel_initializer='normal', activation='sigmoid'))\n",
    "    model.compile(optimizer='Nadam', loss='binary_crossentropy', metrics=['accuracy'])\n",
    "\n",
    "    # Weight the training samples so that there is equal weight on gluon and quark jets\n",
    "    # even if there are different amount of them in the training set\n",
    "    class_weights = class_weight.compute_class_weight(\n",
    "                                                        class_weight  = 'balanced',\n",
    "                                                        classes  = np.unique(train_y),\n",
    "                                                        y =   train_y\n",
    "                                                    )\n",
    "\n",
    "    class_weights = dict(zip(np.unique(train_y), class_weights))\n",
    "\n",
    "    # Train the model\n",
    "    model.fit(train_x,\n",
    "              train_y,\n",
    "              epochs=20,\n",
    "              batch_size=128,\n",
    "              class_weight=class_weights,\n",
    "              validation_split=0.2,\n",
    "              shuffle=True,\n",
    "              verbose=1);\n",
    "    \n",
    "    # Prediction on the test set\n",
    "    pred_y_dnn = model.predict(test_x)"
   ]
  },
  {
   "cell_type": "markdown",
   "id": "7b5b0ddf",
   "metadata": {},
   "source": [
    "After the model is trained and prediction is made on the test set, we can now plot the classifier output.\n",
    "\n",
    "However, in order to fairly compare the performance of the classifier being used and the traditional likelihood discriminator, we should look at the corresponding  Receiver Operating Curve (ROC) curve produced.Therefore in the following classifier we will not plot the classifier output graph.\n",
    "\n"
   ]
  },
  {
   "cell_type": "code",
   "execution_count": 28,
   "id": "9905f29c",
   "metadata": {},
   "outputs": [
    {
     "data": {
      "text/plain": [
       "<Figure size 432x288 with 0 Axes>"
      ]
     },
     "metadata": {},
     "output_type": "display_data"
    },
    {
     "data": {
      "image/png": "[encoded data removed]",
      "text/plain": [
       "<Figure size 1440x720 with 1 Axes>"
      ]
     },
     "metadata": {
      "needs_background": "light"
     },
     "output_type": "display_data"
    }
   ],
   "source": [
    "if PLOT and DO_DNN:\n",
    "\n",
    "    plt.clf()\n",
    "    binning = np.arange(0.0, 1.0, 0.04)\n",
    "    plt.figure( figsize=(20,10))\n",
    "    plt.hist( pred_y_dnn[test_y==0], bins=binning, alpha=0.8, label=\"Gluons\", density=1 )\n",
    "    plt.hist( pred_y_dnn[test_y==1], bins=binning, alpha=0.8, label=\"Quarks\", density=1 )\n",
    "    plt.legend()\n",
    "    plt.xlabel('DNN output value')\n",
    "    plt.title('Simple DNN classifier');\n",
    "    \n",
    "    # Plot for ROC Curve\n",
    "if DO_DNN:\n",
    "    fpr_dnn, tpr_dnn, thresholds_dnn  = roc_curve(test_y, pred_y_dnn)\n",
    "    roc_auc_dnn = auc(fpr_dnn, tpr_dnn)\n",
    "    "
   ]
  },
  {
   "cell_type": "markdown",
   "id": "722fed9f",
   "metadata": {},
   "source": [
    "# Decision Tree\n",
    "\n",
    "Decision Trees (DTs) are a non-parametric supervised learning method used for classification and regression. The goal is to create a model that predicts the value of a target variable by learning simple decision rules inferred from the data features. A tree can be seen as a piecewise constant approximation.\n",
    "**DecisionTreeClassifier** is a class capable of performing multi-class classification on a dataset.\n",
    "\n",
    "This example is made with reference from [Scikit-Learn](https://scikit-learn.org/stable/modules/tree.html) documentation on Decision Tree.\n",
    "\n",
    "The method used to predict the test set is **apply**. \n",
    "Further explanation on the method available for decision tree classifier is available [here](https://scikit-learn.org/stable/modules/generated/sklearn.tree.DecisionTreeClassifier.html#sklearn.tree.DecisionTreeClassifier)."
   ]
  },
  {
   "cell_type": "code",
   "execution_count": 29,
   "id": "62084c09",
   "metadata": {},
   "outputs": [],
   "source": [
    "\n",
    "if DO_DT:\n",
    "\n",
    "    from sklearn.tree import DecisionTreeClassifier\n",
    "\n",
    "    clf = DecisionTreeClassifier(random_state=0)\n",
    "    clf.fit(train_x, train_y)\n",
    "\n",
    "    # Prediction on the test set\n",
    "    pred_y_dt = clf.apply(test_x)\n",
    "\n",
    "    # Plot for ROC Curve\n",
    "    fpr_dt, tpr_dt, thresholds_dt  = roc_curve(test_y, pred_y_dt)\n",
    "    roc_auc_dt = auc(fpr_dt, tpr_dt)\n",
    "    \n",
    "    "
   ]
  },
  {
   "cell_type": "markdown",
   "id": "a1a20b65",
   "metadata": {},
   "source": [
    "# AdaBoost\n",
    "\n",
    "The module sklearn.ensemble includes the popular boosting algorithm AdaBoost.\n",
    "The core principle of AdaBoost is to fit a sequence of weak learners (i.e., models that are only slightly better than random guessing, such as small decision trees) on repeatedly modified versions of the data. The predictions from all of them are then combined through a weighted majority vote (or sum) to produce the final prediction. \n",
    "\n",
    "This example is made with reference from [Scikit-Learn](https://scikit-learn.org/stable/modules/ensemble.html#adaboost) documentation on Decision Tree.\n",
    "\n",
    "In AdaBoost the method used is different compared to Gradient Tree as we uses **decision_function** here.\n",
    "Further explanation on the method available for AdaBoost classifier is available [here](https://scikit-learn.org/stable/modules/generated/sklearn.ensemble.AdaBoostClassifier.html#sklearn.ensemble.AdaBoostClassifier)"
   ]
  },
  {
   "cell_type": "code",
   "execution_count": 30,
   "id": "13617447",
   "metadata": {},
   "outputs": [],
   "source": [
    "\n",
    "if DO_AB:\n",
    "\n",
    "    from sklearn.ensemble import AdaBoostClassifier \n",
    "\n",
    "    clf = AdaBoostClassifier(n_estimators=100, random_state=0)\n",
    "    clf.fit(train_x, train_y)\n",
    "\n",
    "    # Prediction on the test set\n",
    "    pred_y_ab = clf.decision_function(test_x)\n",
    "    \n",
    "    # Plot for ROC Curve\n",
    "    fpr_ab, tpr_ab, thresholds_ab  = roc_curve(test_y, pred_y_ab)\n",
    "    roc_auc_ab = auc(fpr_ab, tpr_ab)"
   ]
  },
  {
   "cell_type": "markdown",
   "id": "b53f5587",
   "metadata": {},
   "source": [
    "# Gradient Boosting\n",
    "\n",
    "Gradient Tree Boosting or Gradient Boosted Decision Trees (GBDT) is a generalization of boosting to arbitrary differentiable loss functions. GBDT is an accurate and effective off-the-shelf procedure that can be used for both regression and classification problems in a variety of areas including Web search ranking and ecology.\n",
    "\n",
    "This example is made with reference from [Scikit-Learn](https://scikit-learn.org/stable/modules/ensemble.html#gradient-tree-boosting) documentation on Decision Tree.\n",
    "\n",
    "The method used to predict the test set in Gradient Boosting is the same as AdaBoost which is **decision_function**.\n",
    "Further explanation on the method available for Gradient Tree Boosting is available [here](https://scikit-learn.org/stable/modules/generated/sklearn.ensemble.GradientBoostingClassifier.html#sklearn.ensemble.GradientBoostingClassifier)"
   ]
  },
  {
   "cell_type": "code",
   "execution_count": null,
   "id": "c1886210",
   "metadata": {},
   "outputs": [],
   "source": [
    "\n",
    "if DO_GB:\n",
    "\n",
    "    from sklearn.ensemble import GradientBoostingClassifier\n",
    "\n",
    "    clf = GradientBoostingClassifier(n_estimators=100, random_state=0)\n",
    "    clf.fit(train_x, train_y)\n",
    "\n",
    "    # Prediction on the test set\n",
    "    pred_y_gb = clf.decision_function(test_x)\n",
    "    \n",
    "    \n",
    "    # Plot for ROC Curve\n",
    "    fpr_gb, tpr_gb, thresholds_gb  = roc_curve(test_y, pred_y_gb)\n",
    "    roc_auc_gb = auc(fpr_gb, tpr_gb)"
   ]
  },
  {
   "cell_type": "markdown",
   "id": "a84ca5bd",
   "metadata": {},
   "source": [
    "# Plotting ROC Curve\n",
    "\n",
    "The following codes will lastly produced an ROC curve graph to fairly compare the performance of the traditional likelihood discriminator as well as the classifiers that we used.\n",
    "The larger the area under the curve (AUC), the better the performance of the classifier."
   ]
  },
  {
   "cell_type": "code",
   "execution_count": null,
   "id": "11ec314c",
   "metadata": {},
   "outputs": [],
   "source": [
    "\n",
    "#Plot for ROC (likelihood Discriminator)\n",
    "fpr_qgl, tpr_qgl, thresholds_qgl = roc_curve(test_y, test.jetQGl)\n",
    "roc_auc_qgl = auc(fpr_qgl, tpr_qgl)\n",
    "\n",
    "if PLOT:\n",
    "\n",
    "    plt.clf()\n",
    "    plt.figure( figsize=(20,10))\n",
    "    plt.plot(fpr_qgl, tpr_qgl, 'r', label='Likelihood discriminator, AUC = %0.2f'% roc_auc_qgl)\n",
    "\n",
    "    if DO_DNN: \n",
    "        plt.plot(fpr_dnn, tpr_dnn, 'b', label='DNN classifier, AUC = %0.2f'% roc_auc_dnn)\n",
    "    if DO_DT : \n",
    "        plt.plot(fpr_dt , tpr_dt , 'y', label='DT classifier, AUC = %0.2f'% roc_auc_dt)\n",
    "    if DO_AB : \n",
    "        plt.plot(fpr_ab , tpr_ab , 'g', label='AB classifier, AUC = %0.2f'% roc_auc_ab)\n",
    "    if DO_GB : \n",
    "        plt.plot(fpr_gb , tpr_gb , 'c', label='GB classifier, AUC = %0.2f'% roc_auc_gb)\n",
    "    \n",
    "        \n",
    "    plt.plot([0,1], [0,1], 'k--')\n",
    "    plt.xlim([0.0, 1.0])\n",
    "    plt.ylim([0.0, 1.0])\n",
    "    plt.legend(loc = 'lower right')\n",
    "    plt.title(\"Receiver operating characteristic\")\n",
    "    plt.ylabel('Quark jet acceptance rate')\n",
    "    plt.xlabel('Gluon jet acceptance rate');\n",
    "    "
   ]
  },
  {
   "cell_type": "markdown",
   "id": "89029f7c",
   "metadata": {},
   "source": [
    "With higher ROC AUC value, we can conclude that the performance of DNN, AdaBoost and Gradient Boosting Classifier have a fairly better performance than the likelihood discriminator.\n",
    "However the performance of DNN, AdaBoost and Gradient Boosting is almost similar in terms of thes shape of the curve and has exacty the same value of ROC AUC value."
   ]
  },
  {
   "cell_type": "code",
   "execution_count": null,
   "id": "4ecb6926",
   "metadata": {},
   "outputs": [],
   "source": []
  }
 ],
 "metadata": {
  "kernelspec": {
   "display_name": "Python 3 (ipykernel)",
   "language": "python",
   "name": "python3"
  },
  "language_info": {
   "codemirror_mode": {
    "name": "ipython",
    "version": 3
   },
   "file_extension": ".py",
   "mimetype": "text/x-python",
   "name": "python",
   "nbconvert_exporter": "python",
   "pygments_lexer": "ipython3",
   "version": "3.9.7"
  }
 },
 "nbformat": 4,
 "nbformat_minor": 5
}
