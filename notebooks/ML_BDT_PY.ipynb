{
 "cells": [
  {
   "cell_type": "markdown",
   "id": "4b950a3f",
   "metadata": {},
   "source": [
    "# Decision Trees using Scikit-Learn\n",
    "\n",
    "**AUTHOR**: Alma Qasreena\n",
    "\n",
    "This Jupyter Notebook provide the example of simple Machine Learning classification using Scikit-Learn\n",
    "\n",
    "We will be using the following modelling techniques:\n",
    "\n",
    "-Deep Neural Network (DNN)\n",
    "\n",
    "-Decision Tree\n",
    "\n",
    "-AdaBoost\n",
    "\n",
    "-Gradient Boosting\n",
    "\n",
    "AdaBoost and Gradient Boosting is one of the most popular boosting algorithm method for Decision Tree that is shown in this notebook"
   ]
  },
  {
   "cell_type": "markdown",
   "id": "4701cd5e",
   "metadata": {},
   "source": [
    "We begin by importing a few essential libraries and then load the data sets that will be use"
   ]
  },
  {
   "cell_type": "code",
   "execution_count": 65,
   "id": "b153a78f",
   "metadata": {},
   "outputs": [],
   "source": [
    "import uproot\n",
    "import numpy as np\n",
    "import pandas as pd\n",
    "import matplotlib.pyplot as plt"
   ]
  },
  {
   "cell_type": "code",
   "execution_count": 66,
   "id": "f67e0651",
   "metadata": {},
   "outputs": [],
   "source": [
    "# Use flag to make it easier to compare the line produced by DNN, Decision Tree, AdaBoost, Gradient Boosting\n",
    "PLOT    = True\n",
    "DO_DNN  = True\n",
    "DO_DT   = True\n",
    "DO_AB   = True\n",
    "DO_GB   = True\n",
    "VERBOSE = False"
   ]
  },
  {
   "cell_type": "code",
   "execution_count": 67,
   "id": "7bd8c384",
   "metadata": {},
   "outputs": [],
   "source": [
    "# load the ROOT files\n",
    "\n",
    "filePath   =  '../files/JetNtuple_RunIISummer16_13TeV_MC_1_skimmed.root'\n",
    "tree       =   uproot.open(filePath)['jetTree']"
   ]
  },
  {
   "cell_type": "code",
   "execution_count": 68,
   "id": "ec8821de",
   "metadata": {},
   "outputs": [],
   "source": [
    "# Create and fill a dataframe\n",
    "df             = pd.DataFrame()\n",
    "remaining_vars = []"
   ]
  },
  {
   "cell_type": "code",
   "execution_count": 69,
   "id": "89b7496d",
   "metadata": {},
   "outputs": [],
   "source": [
    "for key in tree.keys():\n",
    "\n",
    "    if str(type(tree[key].array()[0])) != \"<class 'awkward.highlevel.Array'>\":\n",
    "        df[key] = np.array(tree[key].array())\n",
    "    else:\n",
    "        remaining_vars.append(key)\n",
    "    pass\n"
   ]
  },
  {
   "cell_type": "code",
   "execution_count": 70,
   "id": "374146ea",
   "metadata": {},
   "outputs": [],
   "source": [
    "if VERBOSE:      \n",
    "    print(\"Remaining variables not accounted for:\")\n",
    "    print(remaining_vars)\n"
   ]
  },
  {
   "cell_type": "code",
   "execution_count": 71,
   "id": "3633c6d9",
   "metadata": {},
   "outputs": [],
   "source": [
    "# First remove all the other types of jets from the data except the gluon and the light quark (UDS) jets\n",
    "df = df[(df.isPhysG==1) | (df.isPhysUDS==1)].reset_index()"
   ]
  },
  {
   "cell_type": "code",
   "execution_count": 72,
   "id": "a19e0dc5",
   "metadata": {},
   "outputs": [],
   "source": [
    "if VERBOSE: print(df)"
   ]
  },
  {
   "cell_type": "code",
   "execution_count": 73,
   "id": "3b39cbb5",
   "metadata": {},
   "outputs": [
    {
     "data": {
      "image/png": "[encoded data removed]",
      "text/plain": [
       "<Figure size 1440x720 with 1 Axes>"
      ]
     },
     "metadata": {
      "needs_background": "light"
     },
     "output_type": "display_data"
    }
   ],
   "source": [
    "if PLOT:\n",
    "    #\n",
    "    #Plotting Variables\n",
    "    #\n",
    "\n",
    "    hist_columns = ['QG_mult','QG_ptD','QG_axis2']\n",
    "    binnings = [np.arange(0,70,2), np.arange(0.0,1.0,0.04), np.arange(0.0,0.2,0.01)]\n",
    "    ind = 0\n",
    "    fig, axes = plt.subplots(1, 3, figsize=(20,10))\n",
    "\n",
    "    for column in hist_columns:\n",
    "        axes[ind].hist( df[df.isPhysG==1][column], bins=binnings[ind], alpha=0.8, label='Gluon', density=1 )\n",
    "        axes[ind].hist( df[df.isPhysUDS==1][column], bins=binnings[ind], alpha=0.8, label='Quark', density=1 )\n",
    "        axes[ind].set_xlabel(column)\n",
    "        axes[ind].legend()\n",
    "        ind = ind+1\n",
    "\n",
    "    plt.savefig(\"./ML_vars.png\")\n",
    "    plt.clf()\n",
    "\n",
    "    binning = np.arange(0.0, 1.0, 0.04)\n",
    "    plt.hist( df[df.isPhysG==1]['jetQGl'], bins=binning, alpha=0.8, label='Gluon', density=1 )\n",
    "    plt.hist( df[df.isPhysUDS==1]['jetQGl'], bins=binning, alpha=0.8, label='Quark', density=1 )\n",
    "    plt.legend()\n",
    "    plt.xlabel('Discriminator output')\n",
    "    plt.title('Quark/gluon likelihood');\n",
    "\n"
   ]
  },
  {
   "cell_type": "code",
   "execution_count": 74,
   "id": "eb8cbbe8",
   "metadata": {},
   "outputs": [],
   "source": [
    "from sklearn.model_selection import train_test_split\n",
    "\n",
    "train, test = train_test_split(df, test_size=0.2, random_state=42)\n",
    "\n",
    "test_y = test.isPhysUDS\n",
    "\n",
    "input_features = ['jetPt', 'jetEta', 'QG_mult', 'QG_ptD', 'QG_axis2']\n",
    "\n",
    "if DO_DNN:\n",
    "\n",
    "    train_y_dnn = train.isPhysUDS\n",
    "    test_y_dnn = test.isPhysUDS\n",
    "\n",
    "    train_x_dnn = train[input_features]\n",
    "    test_x_dnn = test[input_features]\n",
    "\n",
    "    train_x_dnn_mean = train_x_dnn.mean()\n",
    "    train_x_dnn_std = train_x_dnn.std()\n",
    "\n",
    "    train_x_dnn = (train_x_dnn - train_x_dnn_mean) / train_x_dnn_std\n",
    "    test_x_dnn = (test_x_dnn - train_x_dnn_mean) / train_x_dnn_std\n",
    "\n",
    "if DO_DT:\n",
    "\n",
    "    train_y_dt = train.isPhysUDS\n",
    "    test_y_dt = test.isPhysUDS\n",
    "\n",
    "    train_x_dt = train[input_features]\n",
    "    test_x_dt = test[input_features]\n",
    "\n",
    "    train_x_dt_mean = train_x_dt.mean()\n",
    "    train_x_dt_std = train_x_dt.std()\n",
    "\n",
    "    train_x_dt = (train_x_dt - train_x_dt_mean) / train_x_dt_std\n",
    "    test_x_dt = (test_x_dt - train_x_dt_mean) / train_x_dt_std\n",
    "\n",
    "if DO_AB:\n",
    "\n",
    "    train_y_ab = train.isPhysUDS\n",
    "    test_y_ab = test.isPhysUDS\n",
    "\n",
    "    train_x_ab = train[input_features]\n",
    "    test_x_ab = test[input_features]\n",
    "\n",
    "    train_x_ab_mean = train_x_ab.mean()\n",
    "    train_x_ab_std = train_x_ab.std()\n",
    "\n",
    "    train_x_ab = (train_x_ab - train_x_ab_mean) / train_x_ab_std\n",
    "    test_x_ab = (test_x_ab - train_x_ab_mean) / train_x_ab_std\n",
    "\n",
    "\n",
    "if DO_GB:\n",
    "\n",
    "    train_y_gb = train.isPhysUDS\n",
    "    test_y_gb = test.isPhysUDS\n",
    "\n",
    "    train_x_gb = train[input_features]\n",
    "    test_x_gb = test[input_features]\n",
    "\n",
    "    train_x_gb_mean = train_x_gb.mean()\n",
    "    train_x_gb_std = train_x_gb.std()\n",
    "\n",
    "    train_x_gb = (train_x_gb - train_x_gb_mean) / train_x_gb_std\n",
    "    test_x_gb = (test_x_gb - train_x_gb_mean) / train_x_gb_std\n"
   ]
  },
  {
   "cell_type": "code",
   "execution_count": 75,
   "id": "c96b64c7",
   "metadata": {},
   "outputs": [
    {
     "name": "stdout",
     "output_type": "stream",
     "text": [
      "WARNING:tensorflow:From /tmp/ipykernel_16454/3622371420.py:10: The name tf.keras.backend.set_session is deprecated. Please use tf.compat.v1.keras.backend.set_session instead.\n",
      "\n"
     ]
    },
    {
     "name": "stderr",
     "output_type": "stream",
     "text": [
      "2021-12-29 16:32:43.410762: I tensorflow/core/platform/cpu_feature_guard.cc:142] This TensorFlow binary is optimized with oneAPI Deep Neural Network Library (oneDNN) to use the following CPU instructions in performance-critical operations:  SSE4.1 SSE4.2 AVX AVX2 AVX512F FMA\n",
      "To enable them in other operations, rebuild TensorFlow with the appropriate compiler flags.\n",
      "2021-12-29 16:32:43.945100: I tensorflow/compiler/mlir/mlir_graph_optimization_pass.cc:116] None of the MLIR optimization passes are enabled (registered 2)\n",
      "2021-12-29 16:32:43.961307: I tensorflow/core/platform/profile_utils/cpu_utils.cc:112] CPU Frequency: 1497600000 Hz\n"
     ]
    },
    {
     "name": "stdout",
     "output_type": "stream",
     "text": [
      "Epoch 1/20\n",
      "70/70 [==============================] - 3s 19ms/step - loss: 0.6404 - accuracy: 0.7139 - val_loss: 0.5107 - val_accuracy: 0.7448\n",
      "Epoch 2/20\n",
      "70/70 [==============================] - 1s 8ms/step - loss: 0.5276 - accuracy: 0.7431 - val_loss: 0.5130 - val_accuracy: 0.7493\n",
      "Epoch 3/20\n",
      "70/70 [==============================] - 1s 8ms/step - loss: 0.5268 - accuracy: 0.7506 - val_loss: 0.5026 - val_accuracy: 0.7538\n",
      "Epoch 4/20\n",
      "70/70 [==============================] - 1s 7ms/step - loss: 0.5225 - accuracy: 0.7472 - val_loss: 0.5020 - val_accuracy: 0.7547\n",
      "Epoch 5/20\n",
      "70/70 [==============================] - 1s 8ms/step - loss: 0.5196 - accuracy: 0.7522 - val_loss: 0.5085 - val_accuracy: 0.7489\n",
      "Epoch 6/20\n",
      "70/70 [==============================] - 1s 8ms/step - loss: 0.5211 - accuracy: 0.7480 - val_loss: 0.5103 - val_accuracy: 0.7547\n",
      "Epoch 7/20\n",
      "70/70 [==============================] - 1s 9ms/step - loss: 0.5243 - accuracy: 0.7468 - val_loss: 0.5147 - val_accuracy: 0.7529\n",
      "Epoch 8/20\n",
      "70/70 [==============================] - 1s 10ms/step - loss: 0.5174 - accuracy: 0.7562 - val_loss: 0.5090 - val_accuracy: 0.7520\n",
      "Epoch 9/20\n",
      "70/70 [==============================] - 1s 9ms/step - loss: 0.5118 - accuracy: 0.7514 - val_loss: 0.5143 - val_accuracy: 0.7516\n",
      "Epoch 10/20\n",
      "70/70 [==============================] - 1s 7ms/step - loss: 0.5125 - accuracy: 0.7526 - val_loss: 0.4993 - val_accuracy: 0.7561\n",
      "Epoch 11/20\n",
      "70/70 [==============================] - 0s 5ms/step - loss: 0.5125 - accuracy: 0.7559 - val_loss: 0.5213 - val_accuracy: 0.7498\n",
      "Epoch 12/20\n",
      "70/70 [==============================] - 0s 6ms/step - loss: 0.5116 - accuracy: 0.7539 - val_loss: 0.5160 - val_accuracy: 0.7520\n",
      "Epoch 13/20\n",
      "70/70 [==============================] - 0s 5ms/step - loss: 0.5139 - accuracy: 0.7567 - val_loss: 0.5167 - val_accuracy: 0.7507\n",
      "Epoch 14/20\n",
      "70/70 [==============================] - 0s 6ms/step - loss: 0.5206 - accuracy: 0.7454 - val_loss: 0.4979 - val_accuracy: 0.7583\n",
      "Epoch 15/20\n",
      "70/70 [==============================] - 1s 8ms/step - loss: 0.5062 - accuracy: 0.7590 - val_loss: 0.5059 - val_accuracy: 0.7498\n",
      "Epoch 16/20\n",
      "70/70 [==============================] - 1s 8ms/step - loss: 0.5076 - accuracy: 0.7531 - val_loss: 0.5076 - val_accuracy: 0.7552\n",
      "Epoch 17/20\n",
      "70/70 [==============================] - 1s 8ms/step - loss: 0.5140 - accuracy: 0.7537 - val_loss: 0.5124 - val_accuracy: 0.7538\n",
      "Epoch 18/20\n",
      "70/70 [==============================] - 1s 7ms/step - loss: 0.5226 - accuracy: 0.7498 - val_loss: 0.4916 - val_accuracy: 0.7583\n",
      "Epoch 19/20\n",
      "70/70 [==============================] - 0s 7ms/step - loss: 0.5121 - accuracy: 0.7541 - val_loss: 0.5179 - val_accuracy: 0.7516\n",
      "Epoch 20/20\n",
      "70/70 [==============================] - 0s 7ms/step - loss: 0.5271 - accuracy: 0.7386 - val_loss: 0.5006 - val_accuracy: 0.7543\n"
     ]
    }
   ],
   "source": [
    "if DO_DNN:\n",
    "\n",
    "    #\n",
    "    # Deep Neural Network (DNN)\n",
    "    #\n",
    "    import tensorflow as tf\n",
    "    import keras.backend as K\n",
    "\n",
    "    sess = tf.compat.v1.Session()\n",
    "    tf.compat.v1.keras.backend.set_session(sess)\n",
    "\n",
    "    from keras.models import Model, Sequential\n",
    "    from keras.layers import Input, Dense, Dropout\n",
    "    from sklearn.utils import class_weight\n",
    "\n",
    "    # Define the DNN architecture\n",
    "    model = Sequential()\n",
    "    model.add(Dense(100, kernel_initializer='normal', activation='relu', input_dim=train_x_dnn.shape[1]))\n",
    "    model.add(Dropout(0.2))\n",
    "    model.add(Dense(100, kernel_initializer='normal', activation='relu'))\n",
    "    model.add(Dropout(0.2))\n",
    "    model.add(Dense(50, kernel_initializer='normal', activation='relu'))\n",
    "    model.add(Dense(1, kernel_initializer='normal', activation='sigmoid'))\n",
    "    model.compile(optimizer='Nadam', loss='binary_crossentropy', metrics=['accuracy'])\n",
    "\n",
    "    # Weight the training samples so that there is equal weight on gluon and quark jets\n",
    "    # even if there are different amount of them in the training set\n",
    "    class_weights = class_weight.compute_class_weight(\n",
    "                                                        class_weight  = 'balanced',\n",
    "                                                        classes  = np.unique(train_y_dnn),\n",
    "                                                        y =   train_y_dnn\n",
    "                                                    )\n",
    "\n",
    "    class_weights = dict(zip(np.unique(train_y_dnn), class_weights))\n",
    "\n",
    "    # Train the model\n",
    "    model.fit(train_x_dnn,\n",
    "              train_y_dnn,\n",
    "              epochs=20,\n",
    "              batch_size=128,\n",
    "              class_weight=class_weights,\n",
    "              validation_split=0.2,\n",
    "              shuffle=True,\n",
    "              verbose=1);\n",
    "\n",
    "    pred_y_dnn = model.predict(test_x_dnn)"
   ]
  },
  {
   "cell_type": "code",
   "execution_count": 76,
   "id": "9905f29c",
   "metadata": {},
   "outputs": [
    {
     "data": {
      "image/png": "[encoded data removed]",
      "text/plain": [
       "<Figure size 432x288 with 1 Axes>"
      ]
     },
     "metadata": {
      "needs_background": "light"
     },
     "output_type": "display_data"
    }
   ],
   "source": [
    "if PLOT and DO_DNN:\n",
    "\n",
    "    plt.clf()\n",
    "    binning = np.arange(0.0, 1.0, 0.04)\n",
    "    plt.hist( pred_y_dnn[test_y_dnn==0], bins=binning, alpha=0.8, label=\"Gluons\", density=1 )\n",
    "    plt.hist( pred_y_dnn[test_y_dnn==1], bins=binning, alpha=0.8, label=\"Quarks\", density=1 )\n",
    "    plt.legend()\n",
    "    plt.xlabel('DNN output value')\n",
    "    plt.title('Simple DNN classifier');\n",
    "    "
   ]
  },
  {
   "cell_type": "code",
   "execution_count": 77,
   "id": "c1886210",
   "metadata": {},
   "outputs": [],
   "source": [
    "if DO_DT:\n",
    "\n",
    "    from sklearn.tree import DecisionTreeClassifier\n",
    "\n",
    "    clf = DecisionTreeClassifier(random_state=0)\n",
    "    clf.fit(train_x_dt, train_y_dt)\n",
    "\n",
    "    pred_y_dt = clf.apply(test_x_dt)\n",
    "\n",
    "if DO_AB:\n",
    "\n",
    "    from sklearn.ensemble import AdaBoostClassifier \n",
    "\n",
    "    clf = AdaBoostClassifier(n_estimators=100, random_state=0)\n",
    "    clf.fit(train_x_ab, train_y_ab)\n",
    "\n",
    "    pred_y_ab = clf.decision_function(test_x_ab)\n",
    "\n",
    "\n",
    "if DO_GB:\n",
    "\n",
    "    from sklearn.ensemble import GradientBoostingClassifier\n",
    "\n",
    "    clf = GradientBoostingClassifier(n_estimators=100, random_state=0)\n",
    "    clf.fit(train_x_gb, train_y_gb)\n",
    "\n",
    "    pred_y_gb = clf.decision_function(test_x_gb)"
   ]
  },
  {
   "cell_type": "code",
   "execution_count": 78,
   "id": "e7ddfdd5",
   "metadata": {},
   "outputs": [],
   "source": [
    "from sklearn.metrics import roc_auc_score, roc_curve, auc\n",
    "\n",
    "if DO_DNN:\n",
    "    fpr_dnn, tpr_dnn, thresholds_dnn  = roc_curve(test_y_dnn, pred_y_dnn)\n",
    "    roc_auc_dnn = auc(fpr_dnn, tpr_dnn)\n",
    "\n",
    "if DO_DT:\n",
    "    fpr_dt, tpr_dt, thresholds_dt  = roc_curve(test_y_dt, pred_y_dt)\n",
    "    roc_auc_dt = auc(fpr_dt, tpr_dt)\n",
    "\n",
    "if DO_AB:\n",
    "    fpr_ab, tpr_ab, thresholds_ab  = roc_curve(test_y_ab, pred_y_ab)\n",
    "    roc_auc_ab = auc(fpr_ab, tpr_ab)\n",
    "\n",
    "if DO_GB:\n",
    "    fpr_gb, tpr_gb, thresholds_gb  = roc_curve(test_y_gb, pred_y_gb)\n",
    "    roc_auc_gb = auc(fpr_gb, tpr_gb)\n",
    "\n",
    "fpr_qgl, tpr_qgl, thresholds_qgl = roc_curve(test_y, test.jetQGl)\n",
    "roc_auc_qgl = auc(fpr_qgl, tpr_qgl)\n"
   ]
  },
  {
   "cell_type": "code",
   "execution_count": 79,
   "id": "11ec314c",
   "metadata": {},
   "outputs": [
    {
     "data": {
      "image/png": "[encoded data removed]",
      "text/plain": [
       "<Figure size 432x288 with 1 Axes>"
      ]
     },
     "metadata": {
      "needs_background": "light"
     },
     "output_type": "display_data"
    }
   ],
   "source": [
    "if PLOT:\n",
    "\n",
    "    plt.clf()\n",
    "    plt.plot(fpr_qgl, tpr_qgl, 'r', label='Likelihood discriminator, AUC = %0.2f'% roc_auc_qgl)\n",
    "\n",
    "    if DO_DNN: plt.plot(fpr_dnn, tpr_dnn, 'b', label='Simple DNN classifier, AUC = %0.2f'% roc_auc_dnn)\n",
    "    if DO_DT : plt.plot(fpr_dt , tpr_dt , 'y', label='DT classifier, AUC = %0.2f'% roc_auc_dt)\n",
    "    if DO_AB : plt.plot(fpr_ab , tpr_ab , 'g', label='AB classifier, AUC = %0.2f'% roc_auc_ab)\n",
    "    if DO_GB : plt.plot(fpr_gb , tpr_gb , 'c', label='GB classifier, AUC = %0.2f'% roc_auc_gb)\n",
    "    plt.plot([0,1], [0,1], 'k--')\n",
    "    plt.xlim([0.0, 1.0])\n",
    "    plt.ylim([0.0, 1.0])\n",
    "    plt.legend(loc = 'lower right')\n",
    "    plt.title(\"Receiver operating characteristic\")\n",
    "    plt.ylabel('Quark jet acceptance rate')\n",
    "    plt.xlabel('Gluon jet acceptance rate');\n"
   ]
  },
  {
   "cell_type": "code",
   "execution_count": null,
   "id": "2f010d4b",
   "metadata": {},
   "outputs": [],
   "source": []
  },
  {
   "cell_type": "code",
   "execution_count": null,
   "id": "4ecb6926",
   "metadata": {},
   "outputs": [],
   "source": []
  }
 ],
 "metadata": {
  "kernelspec": {
   "display_name": "Python 3 (ipykernel)",
   "language": "python",
   "name": "python3"
  },
  "language_info": {
   "codemirror_mode": {
    "name": "ipython",
    "version": 3
   },
   "file_extension": ".py",
   "mimetype": "text/x-python",
   "name": "python",
   "nbconvert_exporter": "python",
   "pygments_lexer": "ipython3",
   "version": "3.9.7"
  }
 },
 "nbformat": 4,
 "nbformat_minor": 5
}
