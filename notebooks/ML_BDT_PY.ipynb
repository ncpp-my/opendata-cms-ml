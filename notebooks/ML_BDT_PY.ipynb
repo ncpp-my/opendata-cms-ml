{
 "cells": [
  {
   "cell_type": "markdown",
   "id": "4b950a3f",
   "metadata": {},
   "source": [
    "# Decision Trees using Scikit-Learn\n",
    "\n",
    "**AUTHOR**: Alma Qasreena"
   ]
  },
  {
   "cell_type": "code",
   "execution_count": 2,
   "id": "b153a78f",
   "metadata": {},
   "outputs": [
    {
     "name": "stdout",
     "output_type": "stream",
     "text": [
      "Welcome to JupyROOT 6.24/02\n"
     ]
    }
   ],
   "source": [
    "import ROOT"
   ]
  },
  {
   "cell_type": "markdown",
   "id": "29b6a043",
   "metadata": {},
   "source": [
    "sdvbasjvknasfdvjsfknvsdjkfvndvds vj"
   ]
  },
  {
   "cell_type": "code",
   "execution_count": 3,
   "id": "5ccbf4f8",
   "metadata": {},
   "outputs": [
    {
     "data": {
      "text/plain": [
       "2"
      ]
     },
     "execution_count": 3,
     "metadata": {},
     "output_type": "execute_result"
    }
   ],
   "source": [
    "1+1"
   ]
  },
  {
   "cell_type": "code",
   "execution_count": null,
   "id": "ec8821de",
   "metadata": {},
   "outputs": [],
   "source": []
  }
 ],
 "metadata": {
  "kernelspec": {
   "display_name": "Python 3 (ipykernel)",
   "language": "python",
   "name": "python3"
  },
  "language_info": {
   "codemirror_mode": {
    "name": "ipython",
    "version": 3
   },
   "file_extension": ".py",
   "mimetype": "text/x-python",
   "name": "python",
   "nbconvert_exporter": "python",
   "pygments_lexer": "ipython3",
   "version": "3.9.7"
  }
 },
 "nbformat": 4,
 "nbformat_minor": 5
}
