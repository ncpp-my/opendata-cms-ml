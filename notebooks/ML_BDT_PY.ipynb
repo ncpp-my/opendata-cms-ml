{
 "cells": [
  {
   "cell_type": "markdown",
   "id": "4b950a3f",
   "metadata": {},
   "source": [
    "# Decision Trees using Scikit-Learn\n",
    "\n",
    "**AUTHOR**: Alma Qasreena\n",
    "\n",
    "This Jupyter Notebook provide the example of simple Machine Learning classification with Decision Tree using Scikit-Learn"
   ]
  },
  {
   "cell_type": "markdown",
   "id": "4701cd5e",
   "metadata": {},
   "source": [
    "We begin by importing a few essential libraries and then load the data sets that will be use"
   ]
  },
  {
   "cell_type": "code",
   "execution_count": 1,
   "id": "b153a78f",
   "metadata": {},
   "outputs": [],
   "source": [
    "import uproot\n",
    "import numpy as np\n",
    "import pandas as pd\n",
    "import matplotlib.pyplot as plt"
   ]
  },
  {
   "cell_type": "code",
   "execution_count": 6,
   "id": "f67e0651",
   "metadata": {},
   "outputs": [],
   "source": [
    "PLOT    = True\n",
    "DO_DNN  = True\n",
    "DO_DT   = True\n",
    "DO_AB   = True\n",
    "DO_GB   = True\n",
    "VERBOSE = False\n"
   ]
  },
  {
   "cell_type": "code",
   "execution_count": 7,
   "id": "7bd8c384",
   "metadata": {},
   "outputs": [],
   "source": [
    "# filePath   =  'opendata-cms-ml/files/h5files/JetNtuple_RunIISummer16_13TeV_MC_1_skimmed.h5'\n",
    "# tree       =   uproot.open(filePath)['AK4jets']['jetTree']"
   ]
  },
  {
   "cell_type": "code",
   "execution_count": null,
   "id": "ec8821de",
   "metadata": {},
   "outputs": [],
   "source": []
  }
 ],
 "metadata": {
  "kernelspec": {
   "display_name": "Python 3 (ipykernel)",
   "language": "python",
   "name": "python3"
  },
  "language_info": {
   "codemirror_mode": {
    "name": "ipython",
    "version": 3
   },
   "file_extension": ".py",
   "mimetype": "text/x-python",
   "name": "python",
   "nbconvert_exporter": "python",
   "pygments_lexer": "ipython3",
   "version": "3.9.7"
  }
 },
 "nbformat": 4,
 "nbformat_minor": 5
}
