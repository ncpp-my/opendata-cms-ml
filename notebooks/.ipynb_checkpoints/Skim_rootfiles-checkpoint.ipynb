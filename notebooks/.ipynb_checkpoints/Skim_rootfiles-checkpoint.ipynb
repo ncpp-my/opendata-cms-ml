{
 "cells": [
  {
   "cell_type": "code",
   "execution_count": 1,
   "id": "fef7aa6f",
   "metadata": {},
   "outputs": [
    {
     "name": "stdout",
     "output_type": "stream",
     "text": [
      "Welcome to JupyROOT 6.24/02\n"
     ]
    }
   ],
   "source": [
    "import ROOT"
   ]
  },
  {
   "cell_type": "code",
   "execution_count": 2,
   "id": "d67bb909",
   "metadata": {},
   "outputs": [],
   "source": [
    "rdf = ROOT.RDataFrame"
   ]
  },
  {
   "cell_type": "code",
   "execution_count": 5,
   "id": "6bffbd6d",
   "metadata": {},
   "outputs": [],
   "source": [
    "inFileName  = \"../downloads/JetNtuple_RunIISummer16_13TeV_MC_3.root\"\n",
    "outFileName = \"../downloads/JetNtuple_RunIISummer16_13TeV_MC_3_skimmed.root\"\n",
    "\n",
    "df = rdf(\"AK4jets/jetTree\", inFileName)"
   ]
  },
  {
   "cell_type": "code",
   "execution_count": null,
   "id": "4af7cce3",
   "metadata": {},
   "outputs": [],
   "source": [
    "varList = [\n",
    " 'QG_axis2',\n",
    " 'QG_mult',\n",
    " 'QG_ptD',\n",
    " 'alpha',\n",
    " 'dEtaJetsLO',\n",
    " 'dPhiJetsLO',\n",
    " 'eventJetMult',\n",
    " 'eventWeight',\n",
    " 'hadronFlav',\n",
    " 'isPartonG',\n",
    " 'isPartonOther',\n",
    " 'isPartonUDS',\n",
    " 'isPhysG',\n",
    " 'isPhysOther',\n",
    " 'isPhysUDS',\n",
    " 'jetArea',\n",
    " 'jetChargedHadronMult',\n",
    " 'jetChargedMult',\n",
    " 'jetEta',\n",
    " 'jetGenMatch',\n",
    " 'jetGirth',\n",
    " 'jetLooseID',\n",
    " 'jetMass',\n",
    " 'jetMult',\n",
    " 'jetNeutralHadronMult',\n",
    " 'jetNeutralMult',\n",
    " 'jetPhi',\n",
    " 'jetPt',\n",
    " 'jetPtOrder',\n",
    " 'jetQGl',\n",
    " 'jetRawMass',\n",
    " 'jetRawPt',\n",
    " 'jetTightID',\n",
    " 'partonFlav',\n",
    " 'physFlav',\n",
    " 'pthat',\n",
    " 'rhoAll',\n",
    " 'rhoCentral',\n",
    " 'rhoCentralChargedPileUp',\n",
    " 'rhoCentralNeutral'\n",
    "]\n",
    "\n",
    "branchVec = ROOT.vector('string')()\n",
    "for var in varList: branchVec.push_back(var)\n",
    "\n",
    "outTreeName = \"jetTree\"\n",
    "df.Snapshot(outTreeName, outFileName, branchVec)"
   ]
  },
  {
   "cell_type": "code",
   "execution_count": null,
   "id": "1ea14856",
   "metadata": {},
   "outputs": [],
   "source": []
  }
 ],
 "metadata": {
  "kernelspec": {
   "display_name": "Python 3 (ipykernel)",
   "language": "python",
   "name": "python3"
  },
  "language_info": {
   "codemirror_mode": {
    "name": "ipython",
    "version": 3
   },
   "file_extension": ".py",
   "mimetype": "text/x-python",
   "name": "python",
   "nbconvert_exporter": "python",
   "pygments_lexer": "ipython3",
   "version": "3.9.7"
  }
 },
 "nbformat": 4,
 "nbformat_minor": 5
}
