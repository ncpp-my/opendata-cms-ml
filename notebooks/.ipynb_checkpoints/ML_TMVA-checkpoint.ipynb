{
 "cells": [
  {
   "attachments": {
    "stuff.png": {
     "image/png": "[encoded data removed]"
    }
   },
   "cell_type": "markdown",
   "id": "c1059128",
   "metadata": {},
   "source": [
    "![stuff.png](attachment:stuff.png)"
   ]
  },
  {
   "cell_type": "markdown",
   "id": "4e516c1d",
   "metadata": {},
   "source": [
    "# Machine Learning using ROOT's TMVA"
   ]
  },
  {
   "cell_type": "markdown",
   "id": "8f054681",
   "metadata": {},
   "source": [
    "The Toolkit for Multivariate Data Analysis with ROOT (TMVA) provides a machine learning environment for the processing and evaluation of multivariate classification. This notebook will cover on packages of ROOT-TMVA:\n",
    "- Boosted Decision Tree\n",
    "- Support Vector Machine\n",
    "- Deep Neural Networks\n",
    "- H-Matrix Discriminant\n",
    "\n",
    "\n"
   ]
  },
  {
   "cell_type": "code",
   "execution_count": 36,
   "id": "cade96e2",
   "metadata": {},
   "outputs": [],
   "source": [
    "import ROOT\n",
    "\n",
    "import numpy as np\n",
    "import pandas as pd \n",
    "\n"
   ]
  },
  {
   "cell_type": "code",
   "execution_count": 37,
   "id": "da263afd",
   "metadata": {},
   "outputs": [
    {
     "data": {
      "text/plain": [
       "<cppyy.gbl.TMVA.Tools object at 0x7fb62ebda430>"
      ]
     },
     "execution_count": 37,
     "metadata": {},
     "output_type": "execute_result"
    }
   ],
   "source": [
    "import os, sys, glob, collections\n",
    "\n",
    "ROOT.gROOT.SetBatch()\n",
    "ROOT.gStyle.SetOptStat(0)\n",
    "ROOT.TMVA.Tools.Instance()"
   ]
  },
  {
   "cell_type": "markdown",
   "id": "bba6450b",
   "metadata": {},
   "source": [
    "#### Creating an output file for the trained dataset "
   ]
  },
  {
   "cell_type": "code",
   "execution_count": 38,
   "id": "187f657e",
   "metadata": {},
   "outputs": [],
   "source": [
    "MethodName \t= \"ML\"\n",
    "outFileName\t= MethodName + \"_output.root\"\n",
    "outputFile \t= ROOT.TFile(outFileName, \"RECREATE\")"
   ]
  },
  {
   "cell_type": "markdown",
   "id": "64a74abe",
   "metadata": {},
   "source": [
    "#### Declaring Signal Tree and Background Tree"
   ]
  },
  {
   "cell_type": "code",
   "execution_count": 39,
   "id": "51b5bdb3",
   "metadata": {},
   "outputs": [],
   "source": [
    "sigTree\t= ROOT.TChain('jetTree')"
   ]
  },
  {
   "cell_type": "markdown",
   "id": "3796d002",
   "metadata": {},
   "source": [
    "#### Accessing the open data"
   ]
  },
  {
   "cell_type": "code",
   "execution_count": 40,
   "id": "8dc21698",
   "metadata": {},
   "outputs": [],
   "source": [
    "inFileName \t= '../files/JetNtuple_RunIISummer16_13TeV_MC_'\n",
    "\n",
    "for ifile in range (1,4):\n",
    "\tsigTree.Add(inFileName+str(ifile)+\"_skimmed.root\")"
   ]
  },
  {
   "cell_type": "code",
   "execution_count": null,
   "id": "744ca7c7",
   "metadata": {},
   "outputs": [],
   "source": []
  },
  {
   "cell_type": "markdown",
   "id": "092f6136",
   "metadata": {},
   "source": [
    "#### ROOT TMVA Data Loader and Factory"
   ]
  },
  {
   "cell_type": "code",
   "execution_count": 41,
   "id": "e20b2d33",
   "metadata": {},
   "outputs": [],
   "source": [
    "dataLoader\t= ROOT.TMVA.DataLoader(\"dataset\")\n",
    "factory\t\t= ROOT.TMVA.Factory(MethodName + \"_Train\", outputFile, \"!V:!Silent:Color:DrawProgressBar:Transformations=I;D;P;G,D:AnalysisType=Classification\")"
   ]
  },
  {
   "cell_type": "markdown",
   "id": "46bd4cc5",
   "metadata": {},
   "source": [
    "#### Identifying jetTree for Signal and Background"
   ]
  },
  {
   "cell_type": "code",
   "execution_count": 42,
   "id": "2c8f8db2",
   "metadata": {},
   "outputs": [
    {
     "name": "stdout",
     "output_type": "stream",
     "text": [
      "DataSetInfo              : [dataset] : Added class \"Signal\"\n",
      "                         : Add Tree jetTree of type Signal with 360148 events\n",
      "DataSetInfo              : [dataset] : Added class \"Background\"\n",
      "                         : Add Tree tree_bkg of type Background with 360148 events\n",
      "OBJ: TMVA::DataLoader\tdataset\tConfigurable\n"
     ]
    }
   ],
   "source": [
    "bkgTree = sigTree.Clone(\"tree_bkg\")\n",
    "\n",
    "sigCut \t= \"(isPhysUDS==1)\"\n",
    "bkgCut\t= \"(isPhysG==1)\"\n",
    "\n",
    "dataLoader.AddSignalTree(sigTree)\n",
    "dataLoader.AddBackgroundTree(bkgTree)\n",
    "\n",
    "dataLoader.Print()"
   ]
  },
  {
   "cell_type": "markdown",
   "id": "504dc8d5",
   "metadata": {},
   "source": [
    "#### Declaring variable for data Loader"
   ]
  },
  {
   "cell_type": "code",
   "execution_count": 43,
   "id": "98f5a4fb",
   "metadata": {},
   "outputs": [],
   "source": [
    "varList = ['jetPt', 'jetEta', 'QG_mult', 'QG_ptD', 'QG_axis2']\n",
    "for var in varList:\n",
    "\tdataLoader.AddVariable(var)"
   ]
  },
  {
   "cell_type": "markdown",
   "id": "4ebfa1d5",
   "metadata": {},
   "source": [
    "#### Setting weight for Signal and Background"
   ]
  },
  {
   "cell_type": "code",
   "execution_count": 44,
   "id": "0145021f",
   "metadata": {},
   "outputs": [],
   "source": [
    "dataLoader.SetSignalWeightExpression(\"eventWeight\")\n",
    "dataLoader.SetBackgroundWeightExpression(\"eventWeight\")"
   ]
  },
  {
   "cell_type": "markdown",
   "id": "89b44e1b",
   "metadata": {},
   "source": [
    "#### Prepare to Training and Test Tree"
   ]
  },
  {
   "cell_type": "code",
   "execution_count": 45,
   "id": "37c295a6",
   "metadata": {},
   "outputs": [],
   "source": [
    "dataLoader.PrepareTrainingAndTestTree(sigCut, bkgCut, \"SplitMode=Random:NormMode=NumEvents:!V\")"
   ]
  },
  {
   "cell_type": "markdown",
   "id": "f6216b37",
   "metadata": {},
   "source": [
    "### Booking Method of Factory "
   ]
  },
  {
   "cell_type": "markdown",
   "id": "6cccbed9",
   "metadata": {},
   "source": []
  },
  {
   "cell_type": "markdown",
   "id": "33a074a3",
   "metadata": {},
   "source": [
    "****Boosted Decision Tree****"
   ]
  },
  {
   "cell_type": "code",
   "execution_count": 46,
   "id": "1e8b6319",
   "metadata": {},
   "outputs": [
    {
     "data": {
      "text/plain": [
       "<cppyy.gbl.TMVA.MethodBDT object at 0x7fb61fbbaea0>"
      ]
     },
     "execution_count": 46,
     "metadata": {},
     "output_type": "execute_result"
    },
    {
     "name": "stdout",
     "output_type": "stream",
     "text": [
      "Factory                  : Booking method: \u001b[1mBDTG\u001b[0m\n",
      "                         : \n",
      "                         : the option NegWeightTreatment=InverseBoostNegWeights does not exist for BoostType=Grad\n",
      "                         : --> change to new default NegWeightTreatment=Pray\n",
      "                         : Building event vectors for type 2 Signal\n",
      "                         : Dataset[dataset] :  create input formulas for tree jetTree\n",
      "                         : Dataset[dataset] :  create input formulas for tree jetTree\n",
      "                         : Dataset[dataset] :  create input formulas for tree jetTree\n",
      "                         : Dataset[dataset] :  create input formulas for tree jetTree\n",
      "                         : Building event vectors for type 2 Background\n",
      "                         : Dataset[dataset] :  create input formulas for tree jetTree\n",
      "                         : Dataset[dataset] :  create input formulas for tree jetTree\n",
      "                         : Dataset[dataset] :  create input formulas for tree jetTree\n",
      "                         : Dataset[dataset] :  create input formulas for tree jetTree\n",
      "DataSetFactory           : [dataset] : Number of events in input trees\n",
      "                         : Dataset[dataset] :     Signal     requirement: \"(isPhysUDS==1)\"\n",
      "                         : Dataset[dataset] :     Signal          -- number of events passed: 65730  / sum of weights: 18.7151\n",
      "                         : Dataset[dataset] :     Signal          -- efficiency             : 0.0898945\n",
      "                         : Dataset[dataset] :     Background requirement: \"(isPhysG==1)\"\n",
      "                         : Dataset[dataset] :     Background      -- number of events passed: 110509  / sum of weights: 57.7723\n",
      "                         : Dataset[dataset] :     Background      -- efficiency             : 0.277498\n",
      "                         : Dataset[dataset] :  you have opted for interpreting the requested number of training/testing events\n",
      "                         :  to be the number of events AFTER your preselection cuts\n",
      "                         : \n",
      "                         : Dataset[dataset] :  you have opted for interpreting the requested number of training/testing events\n",
      "                         :  to be the number of events AFTER your preselection cuts\n",
      "                         : \n",
      "                         : Number of training and testing events\n",
      "                         : ---------------------------------------------------------------------------\n",
      "                         : Signal     -- training events            : 32865\n",
      "                         : Signal     -- testing events             : 32865\n",
      "                         : Signal     -- training and testing events: 65730\n",
      "                         : Dataset[dataset] : Signal     -- due to the preselection a scaling factor has been applied to the numbers of requested events: 0.182508\n",
      "                         : Background -- training events            : 55254\n",
      "                         : Background -- testing events             : 55254\n",
      "                         : Background -- training and testing events: 110508\n",
      "                         : Dataset[dataset] : Background -- due to the preselection a scaling factor has been applied to the numbers of requested events: 0.306843\n",
      "                         : \n",
      "DataSetInfo              : Correlation matrix (Signal):\n",
      "                         : --------------------------------------------------\n",
      "                         :             jetPt  jetEta QG_mult  QG_ptD QG_axis2\n",
      "                         :    jetPt:  +1.000  +0.014  +0.471  -0.138   -0.175\n",
      "                         :   jetEta:  +0.014  +1.000  +0.052  -0.090   +0.035\n",
      "                         :  QG_mult:  +0.471  +0.052  +1.000  -0.714   +0.426\n",
      "                         :   QG_ptD:  -0.138  -0.090  -0.714  +1.000   -0.666\n",
      "                         : QG_axis2:  -0.175  +0.035  +0.426  -0.666   +1.000\n",
      "                         : --------------------------------------------------\n",
      "DataSetInfo              : Correlation matrix (Background):\n",
      "                         : --------------------------------------------------\n",
      "                         :             jetPt  jetEta QG_mult  QG_ptD QG_axis2\n",
      "                         :    jetPt:  +1.000  +0.036  +0.567  -0.175   -0.207\n",
      "                         :   jetEta:  +0.036  +1.000  +0.076  +0.001   -0.095\n",
      "                         :  QG_mult:  +0.567  +0.076  +1.000  -0.710   +0.267\n",
      "                         :   QG_ptD:  -0.175  +0.001  -0.710  +1.000   -0.593\n",
      "                         : QG_axis2:  -0.207  -0.095  +0.267  -0.593   +1.000\n",
      "                         : --------------------------------------------------\n",
      "DataSetFactory           : [dataset] :  \n",
      "                         : \n"
     ]
    }
   ],
   "source": [
    "factory.BookMethod(dataLoader, ROOT.TMVA.Types.kBDT, \"BDTG\", \"!H:!V:NTrees=1000:MinNodeSize=2.5%:BoostType=Grad:Shrinkage=0.10:UseBaggedBoost:BaggedSampleFraction=0.5:nCuts=20:MaxDepth=2\")"
   ]
  },
  {
   "cell_type": "markdown",
   "id": "81f7f48f",
   "metadata": {},
   "source": []
  },
  {
   "cell_type": "code",
   "execution_count": null,
   "id": "0eb5aeb5",
   "metadata": {},
   "outputs": [],
   "source": []
  },
  {
   "cell_type": "markdown",
   "id": "400cca97",
   "metadata": {},
   "source": []
  },
  {
   "cell_type": "code",
   "execution_count": null,
   "id": "4428e3f5",
   "metadata": {},
   "outputs": [],
   "source": []
  },
  {
   "cell_type": "markdown",
   "id": "ab7e689e",
   "metadata": {},
   "source": []
  },
  {
   "cell_type": "code",
   "execution_count": null,
   "id": "efcdcafa",
   "metadata": {},
   "outputs": [],
   "source": []
  },
  {
   "cell_type": "markdown",
   "id": "66e6ff5d",
   "metadata": {},
   "source": []
  },
  {
   "cell_type": "markdown",
   "id": "bc66ed4e",
   "metadata": {},
   "source": [
    "#### Training dataset"
   ]
  },
  {
   "cell_type": "code",
   "execution_count": 47,
   "id": "1f2ddb57",
   "metadata": {},
   "outputs": [
    {
     "name": "stdout",
     "output_type": "stream",
     "text": [
      "Factory                  : \u001b[1mTrain all methods\u001b[0m\n",
      "Factory                  : [dataset] : Create Transformation \"I\" with events from all classes.\n",
      "                         : \n",
      "                         : Transformation, Variable selection : \n",
      "                         : Input : variable 'jetPt' <---> Output : variable 'jetPt'\n",
      "                         : Input : variable 'jetEta' <---> Output : variable 'jetEta'\n",
      "                         : Input : variable 'QG_mult' <---> Output : variable 'QG_mult'\n",
      "                         : Input : variable 'QG_ptD' <---> Output : variable 'QG_ptD'\n",
      "                         : Input : variable 'QG_axis2' <---> Output : variable 'QG_axis2'\n",
      "Factory                  : [dataset] : Create Transformation \"D\" with events from all classes.\n",
      "                         : \n",
      "                         : Transformation, Variable selection : \n",
      "                         : Input : variable 'jetPt' <---> Output : variable 'jetPt'\n",
      "                         : Input : variable 'jetEta' <---> Output : variable 'jetEta'\n",
      "                         : Input : variable 'QG_mult' <---> Output : variable 'QG_mult'\n",
      "                         : Input : variable 'QG_ptD' <---> Output : variable 'QG_ptD'\n",
      "                         : Input : variable 'QG_axis2' <---> Output : variable 'QG_axis2'\n",
      "Factory                  : [dataset] : Create Transformation \"P\" with events from all classes.\n",
      "                         : \n",
      "                         : Transformation, Variable selection : \n",
      "                         : Input : variable 'jetPt' <---> Output : variable 'jetPt'\n",
      "                         : Input : variable 'jetEta' <---> Output : variable 'jetEta'\n",
      "                         : Input : variable 'QG_mult' <---> Output : variable 'QG_mult'\n",
      "                         : Input : variable 'QG_ptD' <---> Output : variable 'QG_ptD'\n",
      "                         : Input : variable 'QG_axis2' <---> Output : variable 'QG_axis2'\n",
      "Factory                  : [dataset] : Create Transformation \"G\" with events from all classes.\n",
      "                         : \n",
      "                         : Transformation, Variable selection : \n",
      "                         : Input : variable 'jetPt' <---> Output : variable 'jetPt'\n",
      "                         : Input : variable 'jetEta' <---> Output : variable 'jetEta'\n",
      "                         : Input : variable 'QG_mult' <---> Output : variable 'QG_mult'\n",
      "                         : Input : variable 'QG_ptD' <---> Output : variable 'QG_ptD'\n",
      "                         : Input : variable 'QG_axis2' <---> Output : variable 'QG_axis2'\n",
      "Factory                  : [dataset] : Create Transformation \"D\" with events from all classes.\n",
      "                         : \n",
      "                         : Transformation, Variable selection : \n",
      "                         : Input : variable 'jetPt' <---> Output : variable 'jetPt'\n",
      "                         : Input : variable 'jetEta' <---> Output : variable 'jetEta'\n",
      "                         : Input : variable 'QG_mult' <---> Output : variable 'QG_mult'\n",
      "                         : Input : variable 'QG_ptD' <---> Output : variable 'QG_ptD'\n",
      "                         : Input : variable 'QG_axis2' <---> Output : variable 'QG_axis2'\n",
      "TFHandler_Factory        : Variable        Mean        RMS   [        Min        Max ]\n",
      "                         : -----------------------------------------------------------\n",
      "                         :    jetPt:     48.728     22.160   [     30.002     4371.6 ]\n",
      "                         :   jetEta:  -0.055236     1.4193   [    -2.5000     2.5000 ]\n",
      "                         :  QG_mult:     10.743     4.0790   [     1.0000     109.00 ]\n",
      "                         :   QG_ptD:    0.43864    0.12223   [    0.14921     1.0000 ]\n",
      "                         : QG_axis2:   0.049266   0.026861   [     0.0000    0.17606 ]\n",
      "                         : -----------------------------------------------------------\n",
      "                         : Preparing the Decorrelation transformation...\n",
      "TFHandler_Factory        : Variable        Mean        RMS   [        Min        Max ]\n",
      "                         : -----------------------------------------------------------\n",
      "                         :    jetPt:     2.0502     1.0000   [     1.0821     203.76 ]\n",
      "                         :   jetEta:   -0.15652     1.0000   [    -2.6190     1.7109 ]\n",
      "                         :  QG_mult:     2.1877     1.0000   [    -81.926     16.238 ]\n",
      "                         :   QG_ptD:     8.8652     1.0000   [    -62.122     22.654 ]\n",
      "                         : QG_axis2:     5.5291     1.0000   [     3.1113     103.94 ]\n",
      "                         : -----------------------------------------------------------\n",
      "                         : Preparing the Principle Component (PCA) transformation...\n",
      "TFHandler_Factory        : Variable        Mean        RMS   [        Min        Max ]\n",
      "                         : -----------------------------------------------------------\n",
      "                         :    jetPt:     316.46     22.188   [    -4006.1     335.27 ]\n",
      "                         :   jetEta:     7.7730     3.9254   [    -65.496     62.534 ]\n",
      "                         :  QG_mult:   0.050050     1.4192   [    -2.5103     2.4964 ]\n",
      "                         :   QG_ptD:   0.012190    0.10152   [   -0.47355    0.67131 ]\n",
      "                         : QG_axis2:   0.017315   0.020546   [  -0.031809    0.13182 ]\n",
      "                         : -----------------------------------------------------------\n",
      "                         : Preparing the Gaussian transformation...\n",
      "                         : Preparing the Decorrelation transformation...\n",
      "TFHandler_Factory        : Variable        Mean        RMS   [        Min        Max ]\n",
      "                         : -----------------------------------------------------------\n",
      "                         :    jetPt:   -0.11668     1.0000   [    -6.4557     5.6653 ]\n",
      "                         :   jetEta: -0.0078431     1.0000   [    -3.3974     5.7144 ]\n",
      "                         :  QG_mult:   0.096346     1.0000   [    -4.0320     10.341 ]\n",
      "                         :   QG_ptD:    0.12449     1.0000   [    -3.5836     8.4202 ]\n",
      "                         : QG_axis2:   0.013306     1.0000   [    -3.7972     6.8764 ]\n",
      "                         : -----------------------------------------------------------\n",
      "                         : Ranking input variables (method unspecific)...\n",
      "IdTransformation         : Ranking result (top variable is best ranked)\n",
      "                         : ---------------------------------\n",
      "                         : Rank : Variable  : Separation\n",
      "                         : ---------------------------------\n",
      "                         :    1 : QG_ptD    : 2.154e-01\n",
      "                         :    2 : QG_axis2  : 2.079e-01\n",
      "                         :    3 : QG_mult   : 1.461e-01\n",
      "                         :    4 : jetEta    : 4.328e-02\n",
      "                         :    5 : jetPt     : 2.027e-02\n",
      "                         : ---------------------------------\n",
      "Factory                  : Train method: BDTG for Classification\n",
      "                         : \n",
      "BDTG                     : #events: (reweighted) sig: 44059.5 bkg: 44059.5\n",
      "                         : #events: (unweighted) sig: 32865 bkg: 55254\n",
      "                         : Training 1000 Decision Trees ... patience please\n",
      "                         : Elapsed time for training with 88119 events: 84 sec         \n",
      "BDTG                     : [dataset] : Evaluation of BDTG on training sample (88119 events)\n",
      "                         : Elapsed time for evaluation of 88119 events: 3.7 sec       \n",
      "                         : Creating xml weight file: \u001b[0;36mdataset/weights/ML_Train_BDTG.weights.xml\u001b[0m\n",
      "                         : Creating standalone class: \u001b[0;36mdataset/weights/ML_Train_BDTG.class.C\u001b[0m\n",
      "                         : ML_output.root:/dataset/Method_BDT/BDTG\n",
      "Factory                  : Training finished\n",
      "                         : \n",
      "                         : Ranking input variables (method specific)...\n",
      "BDTG                     : Ranking result (top variable is best ranked)\n",
      "                         : ------------------------------------------\n",
      "                         : Rank : Variable  : Variable Importance\n",
      "                         : ------------------------------------------\n",
      "                         :    1 : jetEta    : 3.545e-01\n",
      "                         :    2 : QG_axis2  : 2.758e-01\n",
      "                         :    3 : QG_ptD    : 2.650e-01\n",
      "                         :    4 : QG_mult   : 1.048e-01\n",
      "                         :    5 : jetPt     : 0.000e+00\n",
      "                         : ------------------------------------------\n",
      "Factory                  : === Destroy and recreate all methods via weight files for testing ===\n",
      "                         : \n",
      "                         : Reading weight file: \u001b[0;36mdataset/weights/ML_Train_BDTG.weights.xml\u001b[0m\n",
      "Factory                  : \u001b[1mTest all methods\u001b[0m\n",
      "Factory                  : Test method: BDTG for Classification performance\n",
      "                         : \n",
      "BDTG                     : [dataset] : Evaluation of BDTG on testing sample (88119 events)\n",
      "                         : Elapsed time for evaluation of 88119 events: 3.44 sec       \n",
      "Factory                  : \u001b[1mEvaluate all methods\u001b[0m\n",
      "Factory                  : Evaluate classifier: BDTG\n",
      "                         : \n",
      "BDTG                     : [dataset] : Loop over test events and fill histograms with classifier response...\n",
      "                         : \n",
      "TFHandler_BDTG           : Variable        Mean        RMS   [        Min        Max ]\n",
      "                         : -----------------------------------------------------------\n",
      "                         :    jetPt:     49.103     21.074   [     30.003     4491.7 ]\n",
      "                         :   jetEta:   0.030466     1.3718   [    -2.4998     2.4999 ]\n",
      "                         :  QG_mult:     11.253     4.1887   [     1.0000     113.00 ]\n",
      "                         :   QG_ptD:    0.42347    0.11116   [    0.14063     1.0000 ]\n",
      "                         : QG_axis2:   0.053258   0.027395   [     0.0000    0.17244 ]\n",
      "                         : -----------------------------------------------------------\n",
      "                         : \n",
      "                         : Evaluation results ranked by best signal efficiency and purity (area)\n",
      "                         : -------------------------------------------------------------------------------------------------------------------\n",
      "                         : DataSet       MVA                       \n",
      "                         : Name:         Method:          ROC-integ\n",
      "                         : dataset       BDTG           : 0.734\n",
      "                         : -------------------------------------------------------------------------------------------------------------------\n",
      "                         : \n",
      "                         : Testing efficiency compared to training efficiency (overtraining check)\n",
      "                         : -------------------------------------------------------------------------------------------------------------------\n",
      "                         : DataSet              MVA              Signal efficiency: from test sample (from training sample) \n",
      "                         : Name:                Method:          @B=0.01             @B=0.10            @B=0.30   \n",
      "                         : -------------------------------------------------------------------------------------------------------------------\n",
      "                         : dataset              BDTG           : 0.055 (0.084)       0.358 (0.398)      0.623 (0.710)\n",
      "                         : -------------------------------------------------------------------------------------------------------------------\n",
      "                         : \n",
      "Dataset:dataset          : Created tree 'TestTree' with 88119 events\n",
      "                         : \n",
      "Dataset:dataset          : Created tree 'TrainTree' with 88119 events\n",
      "                         : \n",
      "Factory                  : \u001b[1mThank you for using TMVA!\u001b[0m\n",
      "                         : \u001b[1mFor citation information, please visit: http://tmva.sf.net/citeTMVA.html\u001b[0m\n",
      "--- Launch TMVA GUI to view input file: ML_output.root\n",
      "=== Note: inactive buttons indicate classifiers that were not trained, ===\n",
      "===       or functionalities that were not invoked during the training ===\n"
     ]
    },
    {
     "name": "stderr",
     "output_type": "stream",
     "text": [
      "0%, time left: unknown\n",
      "6%, time left: 80 sec\n",
      "12%, time left: 74 sec\n",
      "18%, time left: 69 sec\n",
      "25%, time left: 64 sec\n",
      "31%, time left: 58 sec\n",
      "37%, time left: 53 sec\n",
      "43%, time left: 48 sec\n",
      "50%, time left: 42 sec\n",
      "56%, time left: 37 sec\n",
      "62%, time left: 32 sec\n",
      "68%, time left: 26 sec\n",
      "75%, time left: 21 sec\n",
      "81%, time left: 15 sec\n",
      "87%, time left: 10 sec\n",
      "93%, time left: 5 sec\n",
      "0%, time left: unknown\n",
      "6%, time left: 2 sec\n",
      "12%, time left: 2 sec\n",
      "18%, time left: 2 sec\n",
      "25%, time left: 2 sec\n",
      "31%, time left: 1 sec\n",
      "37%, time left: 1 sec\n",
      "43%, time left: 1 sec\n",
      "50%, time left: 1 sec\n",
      "56%, time left: 1 sec\n",
      "62%, time left: 1 sec\n",
      "68%, time left: 1 sec\n",
      "75%, time left: 0 sec\n",
      "81%, time left: 0 sec\n",
      "87%, time left: 0 sec\n",
      "93%, time left: 0 sec\n",
      "0%, time left: unknown\n",
      "6%, time left: 3 sec\n",
      "12%, time left: 3 sec\n",
      "18%, time left: 2 sec\n",
      "25%, time left: 2 sec\n",
      "31%, time left: 2 sec\n",
      "37%, time left: 2 sec\n",
      "43%, time left: 1 sec\n",
      "50%, time left: 1 sec\n",
      "56%, time left: 1 sec\n",
      "62%, time left: 1 sec\n",
      "68%, time left: 1 sec\n",
      "75%, time left: 0 sec\n",
      "81%, time left: 0 sec\n",
      "87%, time left: 0 sec\n",
      "93%, time left: 0 sec\n",
      "Warning in <TFile::Init>: file ML_output.root probably not closed, trying to recover\n",
      "Info in <TFile::Recover>: ML_output.root, recovered key TDirectoryFile:dataset at address 224\n",
      "Warning in <TFile::Init>: successfully recovered 1 keys\n"
     ]
    }
   ],
   "source": [
    "factory.TrainAllMethods()\n",
    "factory.TestAllMethods()\n",
    "factory.EvaluateAllMethods()\n",
    "\n",
    "ROOT.TMVA.TMVAGui(outFileName)"
   ]
  },
  {
   "cell_type": "markdown",
   "id": "92405b44",
   "metadata": {},
   "source": [
    "### Plotting the ROC"
   ]
  },
  {
   "cell_type": "code",
   "execution_count": 73,
   "id": "b347f6ad",
   "metadata": {},
   "outputs": [],
   "source": [
    "from plotting_helpers import *\n",
    "\n",
    "colors = [ROOT.kGreen+2, ROOT.kBlue+2, ROOT.kRed+2, ROOT.kMagenta+2]\n",
    "\n",
    "METHOD     = \"ML\"\n",
    "FILENAME   = METHOD + \"_output.root\" \n",
    "OUTDIR     = \"./PNG/\"\n",
    "\n",
    "PLOT_ROC = True\n",
    "PLOT_KST = True\n",
    "\n",
    "TAIL = \".png\""
   ]
  },
  {
   "cell_type": "code",
   "execution_count": 91,
   "id": "2c86034a",
   "metadata": {},
   "outputs": [
    {
     "ename": "NameError",
     "evalue": "name 'dataset' is not defined",
     "output_type": "error",
     "traceback": [
      "\u001b[0;31m---------------------------------------------------------------------------\u001b[0m",
      "\u001b[0;31mNameError\u001b[0m                                 Traceback (most recent call last)",
      "\u001b[0;32m/tmp/ipykernel_1462/1602048163.py\u001b[0m in \u001b[0;36m<module>\u001b[0;34m\u001b[0m\n\u001b[1;32m     19\u001b[0m \u001b[0;31m#\u001b[0m\u001b[0;34m\u001b[0m\u001b[0;34m\u001b[0m\u001b[0m\n\u001b[1;32m     20\u001b[0m \u001b[0;34m\u001b[0m\u001b[0m\n\u001b[0;32m---> 21\u001b[0;31m \u001b[0mkeyList\u001b[0m \u001b[0;34m=\u001b[0m \u001b[0mdataset\u001b[0m\u001b[0;34m.\u001b[0m\u001b[0mGetListOfKeys\u001b[0m\u001b[0;34m(\u001b[0m\u001b[0;34m)\u001b[0m\u001b[0;34m\u001b[0m\u001b[0;34m\u001b[0m\u001b[0m\n\u001b[0m\u001b[1;32m     22\u001b[0m \u001b[0;34m\u001b[0m\u001b[0m\n\u001b[1;32m     23\u001b[0m \u001b[0;32mfor\u001b[0m \u001b[0mkey\u001b[0m \u001b[0;32min\u001b[0m \u001b[0mkeyList\u001b[0m\u001b[0;34m:\u001b[0m\u001b[0;34m\u001b[0m\u001b[0;34m\u001b[0m\u001b[0m\n",
      "\u001b[0;31mNameError\u001b[0m: name 'dataset' is not defined"
     ]
    }
   ],
   "source": [
    "def main(fileName):\n",
    "\n",
    "  file    = ROOT.TFile(fileName, \"OPEN\")\n",
    "  dataset = file.Get(\"dataset\")\n",
    "  \n",
    "  hNameROC = \"_rejBvsS\" # name of ROC histograms\n",
    "  hNameKST = \"_Train\"   # training histograms\n",
    "\n",
    "  xTitle = \"Signal Efficiency\"\n",
    "  yTitle = \"Background Rejection\"\n",
    "  fTitle = yTitle + \" versus \" + xTitle\n",
    "\n",
    "  methodDict = {}\n",
    "  histoList  = {}\n",
    "  histoDict  = {}"
   ]
  },
  {
   "cell_type": "code",
   "execution_count": 90,
   "id": "9dc57569",
   "metadata": {},
   "outputs": [
    {
     "ename": "NameError",
     "evalue": "name 'dataset' is not defined",
     "output_type": "error",
     "traceback": [
      "\u001b[0;31m---------------------------------------------------------------------------\u001b[0m",
      "\u001b[0;31mNameError\u001b[0m                                 Traceback (most recent call last)",
      "\u001b[0;32m/tmp/ipykernel_1462/2734826682.py\u001b[0m in \u001b[0;36m<module>\u001b[0;34m\u001b[0m\n\u001b[1;32m      3\u001b[0m \u001b[0;31m#\u001b[0m\u001b[0;34m\u001b[0m\u001b[0;34m\u001b[0m\u001b[0m\n\u001b[1;32m      4\u001b[0m \u001b[0;34m\u001b[0m\u001b[0m\n\u001b[0;32m----> 5\u001b[0;31m \u001b[0mkeyList\u001b[0m \u001b[0;34m=\u001b[0m \u001b[0mdataset\u001b[0m\u001b[0;34m.\u001b[0m\u001b[0mGetListOfKeys\u001b[0m\u001b[0;34m(\u001b[0m\u001b[0;34m)\u001b[0m\u001b[0;34m\u001b[0m\u001b[0;34m\u001b[0m\u001b[0m\n\u001b[0m\u001b[1;32m      6\u001b[0m \u001b[0;34m\u001b[0m\u001b[0m\n\u001b[1;32m      7\u001b[0m \u001b[0;32mfor\u001b[0m \u001b[0mkey\u001b[0m \u001b[0;32min\u001b[0m \u001b[0mkeyList\u001b[0m\u001b[0;34m:\u001b[0m\u001b[0;34m\u001b[0m\u001b[0;34m\u001b[0m\u001b[0m\n",
      "\u001b[0;31mNameError\u001b[0m: name 'dataset' is not defined"
     ]
    }
   ],
   "source": [
    "#\n",
    "# Access first directory to obtain keys for 2nd directory\n",
    "#\n",
    "\n",
    "keyList = dataset.GetListOfKeys()\n",
    "\n",
    "for key in keyList:\n",
    "    if \"Method\" in key.GetName():\n",
    "        methodDict[\"mother\"] = {}\n",
    "        methodDict[\"daughter\"] = {}\n",
    "        methodDict[\"mother\"][key.GetName()] = dataset.Get(key.GetName())\n",
    "\n",
    "#\n",
    "# Obtain keys for final directory\n",
    "#\n",
    "for method in methodDict[\"mother\"]:\n",
    "\n",
    "    keyList = methodDict[\"mother\"][method].GetListOfKeys()\n",
    "\n",
    "    for methodKey in keyList:\n",
    "      methodName = methodKey.GetName()\n",
    "      histoDict[methodName] = {}\n",
    "      methodDict[\"daughter\"][methodName] = methodDict[\"mother\"][method].Get(methodName)\n",
    "\n",
    "      #\n",
    "      # Clone histograms\n",
    "      #\n",
    "      if PLOT_ROC: \n",
    "        histoDict[methodName][\"ROC\"]      = methodDict[\"daughter\"][methodName].Get(\"MVA_\"+methodName+hNameROC     ).Clone()\n",
    "      \n",
    "      if PLOT_KST:\n",
    "        histoDict[methodName][\"SigTrain\"] = methodDict[\"daughter\"][methodName].Get(\"MVA_\"+methodName+hNameKST+\"_S\").Clone()\n",
    "        histoDict[methodName][\"BkgTrain\"] = methodDict[\"daughter\"][methodName].Get(\"MVA_\"+methodName+hNameKST+\"_B\").Clone()\n",
    "        histoDict[methodName][\"SigTest\"]  = methodDict[\"daughter\"][methodName].Get(\"MVA_\"+methodName+\"_S\"         ).Clone()\n",
    "        histoDict[methodName][\"BkgTest\"]  = methodDict[\"daughter\"][methodName].Get(\"MVA_\"+methodName+\"_B\"         ).Clone()\n",
    "\n",
    "      plotKST(histoDict[methodName], methodName)\n",
    "\n",
    "plotROC(histoDict)"
   ]
  },
  {
   "cell_type": "code",
   "execution_count": 80,
   "id": "62c99edd",
   "metadata": {
    "scrolled": true
   },
   "outputs": [],
   "source": [
    " \n",
    "def plotKST(histoDict, methodName):\n",
    "\n",
    "  canv = ROOT.TCanvas(\"canvKST\"+methodName, \"canv\", 800, 800)\n",
    "\n",
    "  #\n",
    "  # Setup legends and histograms\n",
    "  #\n",
    "  lgd = ROOT.TLegend(0.55, 0.85, 0.95, 0.975)\n",
    "\n",
    "  sigTrain = histoDict[\"SigTrain\"]\n",
    "  bkgTrain = histoDict[\"BkgTrain\"]\n",
    "  sigTest  = histoDict[\"SigTest\"] \n",
    "  bkgTest  = histoDict[\"BkgTest\"] \n",
    "\n",
    "  ROOT.TMVA.TMVAGlob.NormalizeHists(sigTrain, bkgTrain)\n",
    "  ROOT.TMVA.TMVAGlob.NormalizeHists(sigTest,  bkgTest)\n",
    "  ROOT.TMVA.TMVAGlob.SetSignalAndBackgroundStyle(sigTest, bkgTest)\n",
    "  sigTest.SetLineWidth(1)\n",
    "  bkgTest.SetLineWidth(1)\n",
    "\n",
    "  #\n",
    "  # Setup frame\n",
    "  #\n",
    "  frame = SetupFrame(sigTest, bkgTest, methodName)\n",
    "  frame.Draw()\n",
    "\n",
    "  canv.GetPad(0).SetLeftMargin(0.105)\n",
    "  frame.GetYaxis().SetTitleOffset(1.2)\n",
    "\n",
    "  #\n",
    "  # Overlay signal and background test histos\n",
    "  #\n",
    "  sigTest.Draw(\"same hist\")\n",
    "  bkgTest.Draw(\"same hist\")\n",
    "  sigTrain.Draw(\"e1 same\")\n",
    "  bkgTrain.Draw(\"e1 same\")\n",
    "\n",
    "  lgd.AddEntry(sigTest,  \"Signal (test)\",      \"F\")\n",
    "  lgd.AddEntry(bkgTest,  \"Background (test)\",  \"F\")\n",
    "  lgd.AddEntry(sigTrain, \"Signal (train)\",     \"E1\")\n",
    "  lgd.AddEntry(bkgTrain, \"Background (train)\", \"E1\")\n",
    "\n",
    "  #\n",
    "  # K-S Test\n",
    "  #\n",
    "  kolS = sigTest.KolmogorovTest(sigTrain, \"X\")\n",
    "  kolB = bkgTest.KolmogorovTest(bkgTrain, \"X\")\n",
    "\n",
    "  tt1    = ROOT.TText(0.15, 0.89,   \"Kolmogorov-Smirnov Test\")\n",
    "  tt2    = ROOT.TText(0.15, 0.865, \"Sig = \"+str(kolS))\n",
    "  tt3    = ROOT.TText(0.15, 0.84,  \"Bkg = \"+str(kolB))\n",
    "\n",
    "  for text in [tt1, tt2, tt3]:\n",
    "    text.SetNDC()\n",
    "    text.SetTextSize(0.032)\n",
    "    text.AppendPad()\n",
    "\n",
    "\n",
    "  lgd.Draw()\n",
    "  canv.Print(OUTDIR+\"KST_\"+methodName+TAIL)\n",
    "\n",
    "  frame.Draw(\"same axis\")\n",
    "\n",
    "\n",
    "def plotROC(histoDict):\n",
    "\n",
    "  #\n",
    "  # Declare ROC canvas with grids, and the corresponding attributes\n",
    "  #\n",
    "  canv = ROOT.TCanvas(\"canvROC\", \"canv\", 800, 800)\n",
    "  canv.SetGrid()\n",
    "  canv.SetTicks()\n",
    "\n",
    "  #\n",
    "  # Plot legends and histograms\n",
    "  #\n",
    "  lgd = ROOT.TLegend(0.2, 0.2, 0.6, 0.3)\n",
    "\n",
    "  i = 0\n",
    "  for methodName in histoDict:\n",
    "    histo = histoDict[methodName][\"ROC\"]\n",
    "    histo.SetLineColor(colors[i])\n",
    "    FormatAxisText(histo, xTitle=\"Signal Efficiency\", yTitle=\"Background Rejection (1-#epsilon_{B})\", yOffset=1.2)\n",
    "    histo.GetXaxis().SetRangeUser(0., 1.0)\n",
    "    histo.SetMaximum(1.01)\n",
    "    histo.SetMinimum(0.0)\n",
    "    histo.SetLineWidth(2)\n",
    "    histo.Draw(\"csame\")\n",
    "\n",
    "    lgd.AddEntry(histo, methodName.replace(\"_\", \" \"), \"l\")\n",
    "    i += 1\n",
    "\n",
    "  lgd.Draw()\n",
    "  # canv.SetLogy()\n",
    "  canv.Print(OUTDIR+\"ROC\"+TAIL)"
   ]
  },
  {
   "cell_type": "code",
   "execution_count": 83,
   "id": "188102ae",
   "metadata": {},
   "outputs": [
    {
     "name": "stdout",
     "output_type": "stream",
     "text": [
      "***** DONE PLOTTING ******\n"
     ]
    },
    {
     "name": "stderr",
     "output_type": "stream",
     "text": [
      "Warning in <TFile::Init>: file ML_output.root probably not closed, trying to recover\n",
      "Info in <TFile::Recover>: ML_output.root, recovered key TDirectoryFile:dataset at address 224\n",
      "Warning in <TFile::Init>: successfully recovered 1 keys\n"
     ]
    }
   ],
   "source": [
    "if __name__== \"__main__\":\n",
    "  main(FILENAME)\n",
    "\n",
    "  print(\"***** DONE PLOTTING ******\")"
   ]
  },
  {
   "cell_type": "code",
   "execution_count": null,
   "id": "516acce9",
   "metadata": {},
   "outputs": [],
   "source": []
  }
 ],
 "metadata": {
  "kernelspec": {
   "display_name": "Python 3 (ipykernel)",
   "language": "python",
   "name": "python3"
  },
  "language_info": {
   "codemirror_mode": {
    "name": "ipython",
    "version": 3
   },
   "file_extension": ".py",
   "mimetype": "text/x-python",
   "name": "python",
   "nbconvert_exporter": "python",
   "pygments_lexer": "ipython3",
   "version": "3.9.7"
  }
 },
 "nbformat": 4,
 "nbformat_minor": 5
}
