{
 "cells": [
  {
   "cell_type": "markdown",
   "id": "4e516c1d",
   "metadata": {},
   "source": [
    "# Machine Learning using ROOT's TMVA"
   ]
  },
  {
   "cell_type": "code",
   "execution_count": 47,
   "id": "809137a4",
   "metadata": {},
   "outputs": [],
   "source": [
    "import ROOT\n",
    "import numpy as np\n",
    "import pandas as pd"
   ]
  },
  {
   "cell_type": "markdown",
   "id": "2b14741f",
   "metadata": {},
   "source": [
    "The Toolkit for Multivariate Data Analysis with ROOT (TMVA) is a  machine learning environment for the processing and evaluation of multivariate classification. This notebooks will cover packages for:\n",
    "- Boosted Decision Trees\n",
    "- Support Vector Machine\n",
    "- Deep Learning\n",
    "- \n"
   ]
  },
  {
   "cell_type": "code",
   "execution_count": 48,
   "id": "d7a83db7",
   "metadata": {},
   "outputs": [
    {
     "data": {
      "text/plain": [
       "<cppyy.gbl.TMVA.Tools object at 0x7fffcd3362c0>"
      ]
     },
     "execution_count": 48,
     "metadata": {},
     "output_type": "execute_result"
    }
   ],
   "source": [
    "# global ROOT settings\n",
    "ROOT.gROOT.SetBatch()\n",
    "ROOT.gStyle.SetOptStat(0)\n",
    "ROOT.TMVA.Tools.Instance()"
   ]
  },
  {
   "cell_type": "markdown",
   "id": "7bd6fe4b",
   "metadata": {},
   "source": [
    "## TMVA DataLoader and Factory\n",
    "\n",
    "data loader \n",
    "factoryndcmsv"
   ]
  },
  {
   "cell_type": "code",
   "execution_count": 49,
   "id": "c43d5b3f",
   "metadata": {},
   "outputs": [],
   "source": [
    "MethodName \t= \"ML\"\n",
    "outFileName\t= MethodName + \"_output.root\"\n",
    "outputFile \t= ROOT.TFile(outFileName, \"RECREATE\")\n",
    "\n",
    "dataLoader\t= ROOT.TMVA.DataLoader(\"dataset\")\n",
    "factory\t\t= ROOT.TMVA.Factory(MethodName + \"_Train\", outputFile, \"!V:!Silent:Color:DrawProgressBar:Transformations=I;D;P;G,D:AnalysisType=Classification\")\n"
   ]
  },
  {
   "cell_type": "markdown",
   "id": "7f3b311c",
   "metadata": {},
   "source": [
    "### insert data ccs kvs\n"
   ]
  },
  {
   "cell_type": "code",
   "execution_count": 50,
   "id": "218a8d59",
   "metadata": {},
   "outputs": [
    {
     "name": "stdout",
     "output_type": "stream",
     "text": [
      "DataSetInfo              : [dataset] : Added class \"Signal\"\n",
      "                         : Add Tree jetTree of type Signal with 360148 events\n",
      "DataSetInfo              : [dataset] : Added class \"Background\"\n",
      "                         : Add Tree tree_bkg of type Background with 360148 events\n",
      "OBJ: TMVA::DataLoader\tdataset\tConfigurable\n"
     ]
    }
   ],
   "source": [
    "inFileName = '../files/rootfiles/JetNtuple_RunIISummer16_13TeV_MC_'\n",
    "\n",
    "sigTree = ROOT.TChain('jetTree')\n",
    "for ifile in range (1,4):\n",
    "    sigTree.Add(inFileName+str(ifile)+\"_skimmed.root\")\n",
    "\n",
    "bkgTree = sigTree.Clone(\"tree_bkg\")\n",
    "\n",
    "dataLoader.AddSignalTree(sigTree)\n",
    "dataLoader.AddBackgroundTree(bkgTree)\n",
    "\n",
    "dataLoader.Print()\n"
   ]
  },
  {
   "cell_type": "markdown",
   "id": "4aa1d4af",
   "metadata": {},
   "source": [
    "## insert varibales and cuts\n",
    "\n",
    "jet pt \n",
    "jet eta\n",
    "\n",
    "why do we need those cuts?"
   ]
  },
  {
   "cell_type": "code",
   "execution_count": 51,
   "id": "6300268b",
   "metadata": {},
   "outputs": [],
   "source": [
    "varList = ['jetPt', 'jetEta', 'QG_mult', 'QG_ptD', 'QG_axis2']\n",
    "for var in varList:\n",
    "    dataLoader.AddVariable(var)\n",
    "\n",
    "dataLoader.SetSignalWeightExpression(\"eventWeight\")\n",
    "dataLoader.SetBackgroundWeightExpression(\"eventWeight\")\n",
    "\n",
    "sigCut = \"(isPhysUDS==1)\"\n",
    "bkgCut = \"(isPhysG==1)\"\n",
    "\n",
    "dataLoader.PrepareTrainingAndTestTree(sigCut, bkgCut, \"SplitMode=Random:NormMode=NumEvents:!V\")"
   ]
  },
  {
   "cell_type": "markdown",
   "id": "fe5eac9f",
   "metadata": {},
   "source": [
    "## book ML methods\n",
    "\n",
    "graDIENT BOOSTED DT"
   ]
  },
  {
   "cell_type": "code",
   "execution_count": 52,
   "id": "63974cec",
   "metadata": {},
   "outputs": [
    {
     "data": {
      "text/plain": [
       "<cppyy.gbl.TMVA.MethodBDT object at 0x7f87a30599c0>"
      ]
     },
     "execution_count": 52,
     "metadata": {},
     "output_type": "execute_result"
    },
    {
     "name": "stdout",
     "output_type": "stream",
     "text": [
      "Factory                  : Booking method: \u001b[1mBDTG\u001b[0m\n",
      "                         : \n",
      "                         : the option NegWeightTreatment=InverseBoostNegWeights does not exist for BoostType=Grad\n",
      "                         : --> change to new default NegWeightTreatment=Pray\n",
      "                         : Building event vectors for type 2 Signal\n",
      "                         : Dataset[dataset] :  create input formulas for tree jetTree\n",
      "                         : Dataset[dataset] :  create input formulas for tree jetTree\n",
      "                         : Dataset[dataset] :  create input formulas for tree jetTree\n",
      "                         : Dataset[dataset] :  create input formulas for tree jetTree\n",
      "                         : Building event vectors for type 2 Background\n",
      "                         : Dataset[dataset] :  create input formulas for tree jetTree\n",
      "                         : Dataset[dataset] :  create input formulas for tree jetTree\n",
      "                         : Dataset[dataset] :  create input formulas for tree jetTree\n",
      "                         : Dataset[dataset] :  create input formulas for tree jetTree\n",
      "DataSetFactory           : [dataset] : Number of events in input trees\n",
      "                         : Dataset[dataset] :     Signal     requirement: \"(isPhysUDS==1)\"\n",
      "                         : Dataset[dataset] :     Signal          -- number of events passed: 65730  / sum of weights: 18.7151\n",
      "                         : Dataset[dataset] :     Signal          -- efficiency             : 0.0898945\n",
      "                         : Dataset[dataset] :     Background requirement: \"(isPhysG==1)\"\n",
      "                         : Dataset[dataset] :     Background      -- number of events passed: 110509  / sum of weights: 57.7723\n",
      "                         : Dataset[dataset] :     Background      -- efficiency             : 0.277498\n",
      "                         : Dataset[dataset] :  you have opted for interpreting the requested number of training/testing events\n",
      "                         :  to be the number of events AFTER your preselection cuts\n",
      "                         : \n",
      "                         : Dataset[dataset] :  you have opted for interpreting the requested number of training/testing events\n",
      "                         :  to be the number of events AFTER your preselection cuts\n",
      "                         : \n",
      "                         : Number of training and testing events\n",
      "                         : ---------------------------------------------------------------------------\n",
      "                         : Signal     -- training events            : 32865\n",
      "                         : Signal     -- testing events             : 32865\n",
      "                         : Signal     -- training and testing events: 65730\n",
      "                         : Dataset[dataset] : Signal     -- due to the preselection a scaling factor has been applied to the numbers of requested events: 0.182508\n",
      "                         : Background -- training events            : 55254\n",
      "                         : Background -- testing events             : 55254\n",
      "                         : Background -- training and testing events: 110508\n",
      "                         : Dataset[dataset] : Background -- due to the preselection a scaling factor has been applied to the numbers of requested events: 0.306843\n",
      "                         : \n",
      "DataSetInfo              : Correlation matrix (Signal):\n",
      "                         : --------------------------------------------------\n",
      "                         :             jetPt  jetEta QG_mult  QG_ptD QG_axis2\n",
      "                         :    jetPt:  +1.000  +0.014  +0.471  -0.138   -0.175\n",
      "                         :   jetEta:  +0.014  +1.000  +0.052  -0.090   +0.035\n",
      "                         :  QG_mult:  +0.471  +0.052  +1.000  -0.714   +0.426\n",
      "                         :   QG_ptD:  -0.138  -0.090  -0.714  +1.000   -0.666\n",
      "                         : QG_axis2:  -0.175  +0.035  +0.426  -0.666   +1.000\n",
      "                         : --------------------------------------------------\n",
      "DataSetInfo              : Correlation matrix (Background):\n",
      "                         : --------------------------------------------------\n",
      "                         :             jetPt  jetEta QG_mult  QG_ptD QG_axis2\n",
      "                         :    jetPt:  +1.000  +0.036  +0.567  -0.175   -0.207\n",
      "                         :   jetEta:  +0.036  +1.000  +0.076  +0.001   -0.095\n",
      "                         :  QG_mult:  +0.567  +0.076  +1.000  -0.710   +0.267\n",
      "                         :   QG_ptD:  -0.175  +0.001  -0.710  +1.000   -0.593\n",
      "                         : QG_axis2:  -0.207  -0.095  +0.267  -0.593   +1.000\n",
      "                         : --------------------------------------------------\n",
      "DataSetFactory           : [dataset] :  \n",
      "                         : \n"
     ]
    }
   ],
   "source": [
    "factory.BookMethod(dataLoader, ROOT.TMVA.Types.kBDT, \"BDTG\", \"!H:!V:NTrees=1000:MinNodeSize=2.5%:BoostType=Grad:Shrinkage=0.10:UseBaggedBoost:BaggedSampleFraction=0.5:nCuts=20:MaxDepth=2\")\n",
    "\n",
    "\n"
   ]
  },
  {
   "cell_type": "markdown",
   "id": "5deaba50",
   "metadata": {},
   "source": [
    "## likelihood\n",
    "\n",
    "csbdjvsnvmvjksvla"
   ]
  },
  {
   "cell_type": "code",
   "execution_count": 53,
   "id": "c89564f7",
   "metadata": {},
   "outputs": [],
   "source": [
    "#factory.book method ,adcsjd"
   ]
  },
  {
   "cell_type": "markdown",
   "id": "747664a0",
   "metadata": {},
   "source": [
    "# execute"
   ]
  },
  {
   "cell_type": "code",
   "execution_count": 58,
   "id": "ec2276f0",
   "metadata": {
    "scrolled": true
   },
   "outputs": [
    {
     "ename": "runtime_error",
     "evalue": "void TMVA::Factory::TrainAllMethods() =>\n    runtime_error: FATAL error",
     "output_type": "error",
     "traceback": [
      "\u001b[0;31m---------------------------------------------------------------------------\u001b[0m",
      "\u001b[0;31mruntime_error\u001b[0m                             Traceback (most recent call last)",
      "\u001b[0;32m/tmp/ipykernel_1349/774096502.py\u001b[0m in \u001b[0;36m<module>\u001b[0;34m\u001b[0m\n\u001b[0;32m----> 1\u001b[0;31m \u001b[0mfactory\u001b[0m\u001b[0;34m.\u001b[0m\u001b[0mTrainAllMethods\u001b[0m\u001b[0;34m(\u001b[0m\u001b[0;34m)\u001b[0m\u001b[0;34m\u001b[0m\u001b[0;34m\u001b[0m\u001b[0m\n\u001b[0m\u001b[1;32m      2\u001b[0m \u001b[0mfactory\u001b[0m\u001b[0;34m.\u001b[0m\u001b[0mTestAllMethods\u001b[0m\u001b[0;34m(\u001b[0m\u001b[0;34m)\u001b[0m\u001b[0;34m\u001b[0m\u001b[0;34m\u001b[0m\u001b[0m\n\u001b[1;32m      3\u001b[0m \u001b[0mfactory\u001b[0m\u001b[0;34m.\u001b[0m\u001b[0mEvaluateAllMethods\u001b[0m\u001b[0;34m(\u001b[0m\u001b[0;34m)\u001b[0m\u001b[0;34m\u001b[0m\u001b[0;34m\u001b[0m\u001b[0m\n\u001b[1;32m      4\u001b[0m \u001b[0;34m\u001b[0m\u001b[0m\n\u001b[1;32m      5\u001b[0m \u001b[0mROOT\u001b[0m\u001b[0;34m.\u001b[0m\u001b[0mTMVA\u001b[0m\u001b[0;34m.\u001b[0m\u001b[0mTMVAGui\u001b[0m\u001b[0;34m(\u001b[0m\u001b[0moutFileName\u001b[0m\u001b[0;34m)\u001b[0m\u001b[0;34m\u001b[0m\u001b[0;34m\u001b[0m\u001b[0m\n",
      "\u001b[0;31mruntime_error\u001b[0m: void TMVA::Factory::TrainAllMethods() =>\n    runtime_error: FATAL error"
     ]
    },
    {
     "name": "stdout",
     "output_type": "stream",
     "text": [
      "Factory                  : \u001b[1mTrain all methods\u001b[0m\n",
      "Factory                  : Train method: BDTG for Classification\n",
      "                         : \n",
      "BDTG                     : #events: (reweighted) sig: 44059.5 bkg: 44059.5\n",
      "                         : #events: (unweighted) sig: 32865 bkg: 55254\n",
      "                         : Training 1000 Decision Trees ... patience please\n",
      "\u001b[37;41;1m<FATAL>                         : Alias BoostWeights already exists in results storageAlias BoostWeights already exists in results storage\u001b[0m\n",
      "***> abort program execution\n"
     ]
    },
    {
     "name": "stderr",
     "output_type": "stream",
     "text": [
      "Warning in <TDirectoryFile::Append>: Replacing existing TH1: dataset_BoostWeight (Potential memory leak).\n",
      "Warning in <TDirectoryFile::Append>: Replacing existing TH1: dataset_NodesBeforePruning (Potential memory leak).\n",
      "Warning in <TDirectoryFile::Append>: Replacing existing TH1: dataset_NodesAfterPruning (Potential memory leak).\n"
     ]
    }
   ],
   "source": [
    "factory.TrainAllMethods()\n",
    "factory.TestAllMethods()\n",
    "factory.EvaluateAllMethods()\n",
    "\n",
    "ROOT.TMVA.TMVAGui(outFileName)"
   ]
  },
  {
   "cell_type": "code",
   "execution_count": null,
   "id": "38011840",
   "metadata": {},
   "outputs": [],
   "source": []
  },
  {
   "cell_type": "code",
   "execution_count": null,
   "id": "7231788e",
   "metadata": {},
   "outputs": [],
   "source": []
  },
  {
   "cell_type": "code",
   "execution_count": 57,
   "id": "dce07689",
   "metadata": {},
   "outputs": [
    {
     "ename": "KeyError",
     "evalue": "'mother'",
     "output_type": "error",
     "traceback": [
      "\u001b[0;31m---------------------------------------------------------------------------\u001b[0m",
      "\u001b[0;31mKeyError\u001b[0m                                  Traceback (most recent call last)",
      "\u001b[0;32m/tmp/ipykernel_1349/488883013.py\u001b[0m in \u001b[0;36m<module>\u001b[0;34m\u001b[0m\n\u001b[1;32m    165\u001b[0m \u001b[0;34m\u001b[0m\u001b[0m\n\u001b[1;32m    166\u001b[0m \u001b[0;32mif\u001b[0m \u001b[0m__name__\u001b[0m\u001b[0;34m==\u001b[0m \u001b[0;34m\"__main__\"\u001b[0m\u001b[0;34m:\u001b[0m\u001b[0;34m\u001b[0m\u001b[0;34m\u001b[0m\u001b[0m\n\u001b[0;32m--> 167\u001b[0;31m   \u001b[0mmain\u001b[0m\u001b[0;34m(\u001b[0m\u001b[0mFILENAME\u001b[0m\u001b[0;34m)\u001b[0m\u001b[0;34m\u001b[0m\u001b[0;34m\u001b[0m\u001b[0m\n\u001b[0m\u001b[1;32m    168\u001b[0m \u001b[0;34m\u001b[0m\u001b[0m\n\u001b[1;32m    169\u001b[0m   \u001b[0mprint\u001b[0m\u001b[0;34m(\u001b[0m\u001b[0;34m\"***** DONE PLOTTING ******\"\u001b[0m\u001b[0;34m)\u001b[0m\u001b[0;34m\u001b[0m\u001b[0;34m\u001b[0m\u001b[0m\n",
      "\u001b[0;32m/tmp/ipykernel_1349/488883013.py\u001b[0m in \u001b[0;36mmain\u001b[0;34m(fileName)\u001b[0m\n\u001b[1;32m     41\u001b[0m   \u001b[0;31m# Obtain keys for final directory\u001b[0m\u001b[0;34m\u001b[0m\u001b[0;34m\u001b[0m\u001b[0m\n\u001b[1;32m     42\u001b[0m   \u001b[0;31m#\u001b[0m\u001b[0;34m\u001b[0m\u001b[0;34m\u001b[0m\u001b[0m\n\u001b[0;32m---> 43\u001b[0;31m   \u001b[0;32mfor\u001b[0m \u001b[0mmethod\u001b[0m \u001b[0;32min\u001b[0m \u001b[0mmethodDict\u001b[0m\u001b[0;34m[\u001b[0m\u001b[0;34m\"mother\"\u001b[0m\u001b[0;34m]\u001b[0m\u001b[0;34m:\u001b[0m\u001b[0;34m\u001b[0m\u001b[0;34m\u001b[0m\u001b[0m\n\u001b[0m\u001b[1;32m     44\u001b[0m \u001b[0;34m\u001b[0m\u001b[0m\n\u001b[1;32m     45\u001b[0m     \u001b[0mkeyList\u001b[0m \u001b[0;34m=\u001b[0m \u001b[0mmethodDict\u001b[0m\u001b[0;34m[\u001b[0m\u001b[0;34m\"mother\"\u001b[0m\u001b[0;34m]\u001b[0m\u001b[0;34m[\u001b[0m\u001b[0mmethod\u001b[0m\u001b[0;34m]\u001b[0m\u001b[0;34m.\u001b[0m\u001b[0mGetListOfKeys\u001b[0m\u001b[0;34m(\u001b[0m\u001b[0;34m)\u001b[0m\u001b[0;34m\u001b[0m\u001b[0;34m\u001b[0m\u001b[0m\n",
      "\u001b[0;31mKeyError\u001b[0m: 'mother'"
     ]
    },
    {
     "name": "stderr",
     "output_type": "stream",
     "text": [
      "Warning in <TFile::Init>: file ML_output.root probably not closed, trying to recover\n",
      "Info in <TFile::Recover>: ML_output.root, recovered key TDirectoryFile:dataset at address 224\n",
      "Warning in <TFile::Init>: successfully recovered 1 keys\n"
     ]
    }
   ],
   "source": [
    "from plotting_helpers import *\n",
    "\n",
    "colors = [ROOT.kGreen+2, ROOT.kBlue+2, ROOT.kRed+2, ROOT.kMagenta+2]\n",
    "\n",
    "FILENAME   = \"ML_output.root\" \n",
    "OUTDIR     = \"./PNG/\"\n",
    "\n",
    "PLOT_ROC = True\n",
    "PLOT_KST = True\n",
    "\n",
    "TAIL = \".png\"\n",
    "\n",
    "def main(fileName):\n",
    "\n",
    "  file    = ROOT.TFile(fileName, \"OPEN\")\n",
    "  dataset = file.Get(\"dataset\")\n",
    "  \n",
    "  hNameROC = \"_rejBvsS\" # name of ROC histograms\n",
    "  hNameKST = \"_Train\"   # training histograms\n",
    "\n",
    "  xTitle = \"Signal Efficiency\"\n",
    "  yTitle = \"Background Rejection\"\n",
    "  fTitle = yTitle + \" versus \" + xTitle\n",
    "\n",
    "  methodDict = {}\n",
    "  histoList  = {}\n",
    "  histoDict  = {}\n",
    "\n",
    "  #\n",
    "  # Access first directory to obtain keys for 2nd directory\n",
    "  #\n",
    "  keyList = dataset.GetListOfKeys()\n",
    "\n",
    "  for key in keyList:\n",
    "    if \"Method\" in key.GetName():\n",
    "      methodDict[\"mother\"] = {}\n",
    "      methodDict[\"daughter\"] = {}\n",
    "      methodDict[\"mother\"][key.GetName()] = dataset.Get(key.GetName())\n",
    "\n",
    "  #\n",
    "  # Obtain keys for final directory\n",
    "  #\n",
    "  for method in methodDict[\"mother\"]:\n",
    "\n",
    "    keyList = methodDict[\"mother\"][method].GetListOfKeys()\n",
    "\n",
    "    for methodKey in keyList:\n",
    "      methodName = methodKey.GetName()\n",
    "      histoDict[methodName] = {}\n",
    "      methodDict[\"daughter\"][methodName] = methodDict[\"mother\"][method].Get(methodName)\n",
    "\n",
    "      #\n",
    "      # Clone histograms\n",
    "      #\n",
    "      if PLOT_ROC: \n",
    "        histoDict[methodName][\"ROC\"]      = methodDict[\"daughter\"][methodName].Get(\"MVA_\"+methodName+hNameROC     ).Clone()\n",
    "      \n",
    "      if PLOT_KST:\n",
    "        histoDict[methodName][\"SigTrain\"] = methodDict[\"daughter\"][methodName].Get(\"MVA_\"+methodName+hNameKST+\"_S\").Clone()\n",
    "        histoDict[methodName][\"BkgTrain\"] = methodDict[\"daughter\"][methodName].Get(\"MVA_\"+methodName+hNameKST+\"_B\").Clone()\n",
    "        histoDict[methodName][\"SigTest\"]  = methodDict[\"daughter\"][methodName].Get(\"MVA_\"+methodName+\"_S\"         ).Clone()\n",
    "        histoDict[methodName][\"BkgTest\"]  = methodDict[\"daughter\"][methodName].Get(\"MVA_\"+methodName+\"_B\"         ).Clone()\n",
    "\n",
    "      plotKST(histoDict[methodName], methodName)\n",
    "\n",
    "  plotROC(histoDict)\n",
    "\n",
    "\n",
    "def plotKST(histoDict, methodName):\n",
    "\n",
    "  canv = ROOT.TCanvas(\"canvKST\"+methodName, \"canv\", 800, 800)\n",
    "\n",
    "  #\n",
    "  # Setup legends and histograms\n",
    "  #\n",
    "  lgd = ROOT.TLegend(0.55, 0.85, 0.95, 0.975)\n",
    "\n",
    "  sigTrain = histoDict[\"SigTrain\"]\n",
    "  bkgTrain = histoDict[\"BkgTrain\"]\n",
    "  sigTest  = histoDict[\"SigTest\"] \n",
    "  bkgTest  = histoDict[\"BkgTest\"] \n",
    "\n",
    "  ROOT.TMVA.TMVAGlob.NormalizeHists(sigTrain, bkgTrain)\n",
    "  ROOT.TMVA.TMVAGlob.NormalizeHists(sigTest,  bkgTest)\n",
    "  ROOT.TMVA.TMVAGlob.SetSignalAndBackgroundStyle(sigTest, bkgTest)\n",
    "  sigTest.SetLineWidth(1)\n",
    "  bkgTest.SetLineWidth(1)\n",
    "\n",
    "  #\n",
    "  # Setup frame\n",
    "  #\n",
    "  frame = SetupFrame(sigTest, bkgTest, methodName)\n",
    "  frame.Draw()\n",
    "\n",
    "  canv.GetPad(0).SetLeftMargin(0.105)\n",
    "  frame.GetYaxis().SetTitleOffset(1.2)\n",
    "\n",
    "  #\n",
    "  # Overlay signal and background test histos\n",
    "  #\n",
    "  sigTest.Draw(\"same hist\")\n",
    "  bkgTest.Draw(\"same hist\")\n",
    "  sigTrain.Draw(\"e1 same\")\n",
    "  bkgTrain.Draw(\"e1 same\")\n",
    "\n",
    "  lgd.AddEntry(sigTest,  \"Signal (test)\",      \"F\")\n",
    "  lgd.AddEntry(bkgTest,  \"Background (test)\",  \"F\")\n",
    "  lgd.AddEntry(sigTrain, \"Signal (train)\",     \"E1\")\n",
    "  lgd.AddEntry(bkgTrain, \"Background (train)\", \"E1\")\n",
    "\n",
    "  #\n",
    "  # K-S Test\n",
    "  #\n",
    "  kolS = sigTest.KolmogorovTest(sigTrain, \"X\")\n",
    "  kolB = bkgTest.KolmogorovTest(bkgTrain, \"X\")\n",
    "\n",
    "  tt1    = ROOT.TText(0.15, 0.89,   \"Kolmogorov-Smirnov Test\")\n",
    "  tt2    = ROOT.TText(0.15, 0.865, \"Sig = \"+str(kolS))\n",
    "  tt3    = ROOT.TText(0.15, 0.84,  \"Bkg = \"+str(kolB))\n",
    "\n",
    "  for text in [tt1, tt2, tt3]:\n",
    "    text.SetNDC()\n",
    "    text.SetTextSize(0.032)\n",
    "    text.AppendPad()\n",
    "\n",
    "\n",
    "  lgd.Draw()\n",
    "  canv.Print(OUTDIR+\"KST_\"+methodName+TAIL)\n",
    "\n",
    "  frame.Draw(\"same axis\")\n",
    "\n",
    "\n",
    "def plotROC(histoDict):\n",
    "\n",
    "  #\n",
    "  # Declare ROC canvas with grids, and the corresponding attributes\n",
    "  #\n",
    "  canv = ROOT.TCanvas(\"canvROC\", \"canv\", 800, 800)\n",
    "  canv.SetGrid()\n",
    "  canv.SetTicks()\n",
    "\n",
    "  #\n",
    "  # Plot legends and histograms\n",
    "  #\n",
    "  lgd = ROOT.TLegend(0.2, 0.2, 0.6, 0.3)\n",
    "\n",
    "  i = 0\n",
    "  for methodName in histoDict:\n",
    "    histo = histoDict[methodName][\"ROC\"]\n",
    "    histo.SetLineColor(colors[i])\n",
    "    FormatAxisText(histo, xTitle=\"Signal Efficiency\", yTitle=\"Background Rejection (1-#epsilon_{B})\", yOffset=1.2)\n",
    "    histo.GetXaxis().SetRangeUser(0., 1.0)\n",
    "    histo.SetMaximum(1.01)\n",
    "    histo.SetMinimum(0.0)\n",
    "    histo.SetLineWidth(2)\n",
    "    histo.Draw(\"csame\")\n",
    "\n",
    "    lgd.AddEntry(histo, methodName.replace(\"_\", \" \"), \"l\")\n",
    "    i += 1\n",
    "\n",
    "  lgd.Draw()\n",
    "  # canv.SetLogy()\n",
    "  canv.Print(OUTDIR+\"ROC\"+TAIL)\n",
    "\n",
    "\n",
    "if __name__== \"__main__\":\n",
    "  main(FILENAME)\n",
    "\n",
    "  print(\"***** DONE PLOTTING ******\")"
   ]
  },
  {
   "cell_type": "code",
   "execution_count": null,
   "id": "39f1b944",
   "metadata": {},
   "outputs": [],
   "source": []
  },
  {
   "cell_type": "code",
   "execution_count": null,
   "id": "fc991307",
   "metadata": {},
   "outputs": [],
   "source": []
  },
  {
   "cell_type": "code",
   "execution_count": null,
   "id": "2fc0f16e",
   "metadata": {},
   "outputs": [],
   "source": []
  },
  {
   "cell_type": "code",
   "execution_count": null,
   "id": "f51a5d65",
   "metadata": {},
   "outputs": [],
   "source": []
  },
  {
   "cell_type": "code",
   "execution_count": null,
   "id": "87363549",
   "metadata": {},
   "outputs": [],
   "source": []
  },
  {
   "cell_type": "code",
   "execution_count": null,
   "id": "765514aa",
   "metadata": {},
   "outputs": [],
   "source": []
  },
  {
   "cell_type": "code",
   "execution_count": null,
   "id": "c63bd3d5",
   "metadata": {},
   "outputs": [],
   "source": []
  },
  {
   "cell_type": "code",
   "execution_count": null,
   "id": "f02c1e60",
   "metadata": {},
   "outputs": [],
   "source": []
  },
  {
   "cell_type": "code",
   "execution_count": null,
   "id": "de456e9a",
   "metadata": {},
   "outputs": [],
   "source": []
  }
 ],
 "metadata": {
  "kernelspec": {
   "display_name": "Python 3 (ipykernel)",
   "language": "python",
   "name": "python3"
  },
  "language_info": {
   "codemirror_mode": {
    "name": "ipython",
    "version": 3
   },
   "file_extension": ".py",
   "mimetype": "text/x-python",
   "name": "python",
   "nbconvert_exporter": "python",
   "pygments_lexer": "ipython3",
   "version": "3.9.7"
  }
 },
 "nbformat": 4,
 "nbformat_minor": 5
}
