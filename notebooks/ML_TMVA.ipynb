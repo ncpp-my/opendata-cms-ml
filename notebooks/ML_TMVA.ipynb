{
 "cells": [
  {
   "cell_type": "markdown",
   "id": "4e516c1d",
   "metadata": {},
   "source": [
    "# Machine Learning using ROOT's TMVA"
   ]
  },
  {
   "cell_type": "markdown",
   "id": "8f054681",
   "metadata": {},
   "source": [
    "hahaha\n"
   ]
  },
  {
   "cell_type": "code",
   "execution_count": 1,
   "id": "cade96e2",
   "metadata": {},
   "outputs": [
    {
     "data": {
      "text/plain": [
       "2"
      ]
     },
     "execution_count": 1,
     "metadata": {},
     "output_type": "execute_result"
    }
   ],
   "source": [
    "1+1\n"
   ]
  },
  {
   "cell_type": "code",
   "execution_count": null,
   "id": "97b9548f",
   "metadata": {},
   "outputs": [],
   "source": []
  }
 ],
 "metadata": {
  "kernelspec": {
   "display_name": "Python 3 (ipykernel)",
   "language": "python",
   "name": "python3"
  },
  "language_info": {
   "codemirror_mode": {
    "name": "ipython",
    "version": 3
   },
   "file_extension": ".py",
   "mimetype": "text/x-python",
   "name": "python",
   "nbconvert_exporter": "python",
   "pygments_lexer": "ipython3",
   "version": "3.9.7"
  }
 },
 "nbformat": 4,
 "nbformat_minor": 5
}
